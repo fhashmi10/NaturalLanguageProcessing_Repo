{
 "cells": [
  {
   "cell_type": "markdown",
   "metadata": {},
   "source": [
    "## POS tagging using modified Viterbi"
   ]
  },
  {
   "cell_type": "markdown",
   "metadata": {},
   "source": [
    "### Data Preparation"
   ]
  },
  {
   "cell_type": "code",
   "execution_count": 55,
   "metadata": {},
   "outputs": [],
   "source": [
    "#Importing libraries\n",
    "import numpy as np\n",
    "import pandas as pd\n",
    "import time, random, pprint\n",
    "from collections import Counter\n",
    "\n",
    "import nltk\n",
    "from nltk.tokenize import word_tokenize\n",
    "\n",
    "from sklearn.model_selection import train_test_split\n",
    "\n",
    "import seaborn as sns\n",
    "import matplotlib.pyplot as plt"
   ]
  },
  {
   "cell_type": "code",
   "execution_count": 56,
   "metadata": {},
   "outputs": [],
   "source": [
    "#Reading the Treebank tagged sentences\n",
    "nltk_data = list(nltk.corpus.treebank.tagged_sents(tagset='universal'))"
   ]
  },
  {
   "cell_type": "code",
   "execution_count": 57,
   "metadata": {
    "scrolled": true
   },
   "outputs": [
    {
     "name": "stdout",
     "output_type": "stream",
     "text": [
      "[[('Pierre', 'NOUN'), ('Vinken', 'NOUN'), (',', '.'), ('61', 'NUM'),\n",
      "  ('years', 'NOUN'), ('old', 'ADJ'), (',', '.'), ('will', 'VERB'),\n",
      "  ('join', 'VERB'), ('the', 'DET'), ('board', 'NOUN'), ('as', 'ADP'),\n",
      "  ('a', 'DET'), ('nonexecutive', 'ADJ'), ('director', 'NOUN'), ('Nov.', 'NOUN'),\n",
      "  ('29', 'NUM'), ('.', '.')],\n",
      " [('Mr.', 'NOUN'), ('Vinken', 'NOUN'), ('is', 'VERB'), ('chairman', 'NOUN'),\n",
      "  ('of', 'ADP'), ('Elsevier', 'NOUN'), ('N.V.', 'NOUN'), (',', '.'),\n",
      "  ('the', 'DET'), ('Dutch', 'NOUN'), ('publishing', 'VERB'), ('group', 'NOUN'),\n",
      "  ('.', '.')]]\n"
     ]
    }
   ],
   "source": [
    "#Check first two lists in nltk_data list\n",
    "pp = pprint.PrettyPrinter(compact=True)\n",
    "pp.pprint(nltk_data[:2])"
   ]
  },
  {
   "cell_type": "code",
   "execution_count": 58,
   "metadata": {},
   "outputs": [],
   "source": [
    "#Split 95 train 5 validation\n",
    "train_set, test_set = train_test_split(nltk_data, test_size=0.05, random_state=42)"
   ]
  },
  {
   "cell_type": "code",
   "execution_count": 59,
   "metadata": {},
   "outputs": [
    {
     "name": "stdout",
     "output_type": "stream",
     "text": [
      "Train set length: 3718\n",
      "Test set length: 196\n"
     ]
    }
   ],
   "source": [
    "#Checking length of train and test sets\n",
    "print('Train set length:',len(train_set))\n",
    "print('Test set length:',len(test_set))"
   ]
  },
  {
   "cell_type": "code",
   "execution_count": 60,
   "metadata": {},
   "outputs": [
    {
     "name": "stdout",
     "output_type": "stream",
     "text": [
      "Train Tagged words length: 95589\n"
     ]
    }
   ],
   "source": [
    "#Get all word tag tuples in single list instead of list of lists\n",
    "train_tagged_words = [pair for sentence in train_set for pair in sentence]\n",
    "#Check length of tagged words\n",
    "print('Train Tagged words length:',len(train_tagged_words))"
   ]
  },
  {
   "cell_type": "code",
   "execution_count": 61,
   "metadata": {},
   "outputs": [
    {
     "name": "stdout",
     "output_type": "stream",
     "text": [
      "Train Total Unique words length: 12109\n"
     ]
    }
   ],
   "source": [
    "#Check total unique words\n",
    "train_words = [pair[0] for pair in train_tagged_words]\n",
    "print('Train Total Unique words length:',len(set(train_words)))"
   ]
  },
  {
   "cell_type": "code",
   "execution_count": 62,
   "metadata": {},
   "outputs": [
    {
     "name": "stdout",
     "output_type": "stream",
     "text": [
      "Train Total Unique tags length: 12\n"
     ]
    }
   ],
   "source": [
    "#Check total unique tags\n",
    "train_tags = [pair[1] for pair in train_tagged_words]\n",
    "train_tags_unique = list(set(train_tags))\n",
    "print('Train Total Unique tags length:',len(train_tags_unique))"
   ]
  },
  {
   "cell_type": "code",
   "execution_count": 63,
   "metadata": {},
   "outputs": [
    {
     "name": "stdout",
     "output_type": "stream",
     "text": [
      "['ADV', 'DET', 'NOUN', 'ADP', 'VERB', 'CONJ', '.', 'PRON', 'X', 'NUM', 'PRT', 'ADJ']\n"
     ]
    }
   ],
   "source": [
    "#Print tags\n",
    "print(train_tags_unique)"
   ]
  },
  {
   "cell_type": "code",
   "execution_count": 64,
   "metadata": {},
   "outputs": [
    {
     "data": {
      "text/plain": [
       "[('NOUN', 28.6884474154976),\n",
       " ('VERB', 13.47958447101654),\n",
       " ('.', 11.631045413175157),\n",
       " ('ADP', 9.776229482471832),\n",
       " ('DET', 8.66626913138541),\n",
       " ('X', 6.565609013589429),\n",
       " ('ADJ', 6.357426063668415),\n",
       " ('NUM', 3.5181872391174713),\n",
       " ('PRT', 3.2001590141125025),\n",
       " ('ADV', 3.148897885739991),\n",
       " ('PRON', 2.7388088587598993),\n",
       " ('CONJ', 2.2293360114657546)]"
      ]
     },
     "execution_count": 64,
     "metadata": {},
     "output_type": "execute_result"
    }
   ],
   "source": [
    "#As we can see, around 28% of tags in train set are NOUN\n",
    "most_common_train_tags = [(pair[0],100*(pair[1]/len(train_tags))) for pair in Counter(train_tags).most_common()]\n",
    "most_common_train_tags"
   ]
  },
  {
   "cell_type": "code",
   "execution_count": 65,
   "metadata": {},
   "outputs": [
    {
     "data": {
      "text/plain": [
       "'NOUN'"
      ]
     },
     "execution_count": 65,
     "metadata": {},
     "output_type": "execute_result"
    }
   ],
   "source": [
    "most_common_train_tag = most_common_train_tags[0][0]\n",
    "most_common_train_tag"
   ]
  },
  {
   "cell_type": "markdown",
   "metadata": {},
   "source": [
    "### Build the vanilla Viterbi based POS tagger"
   ]
  },
  {
   "cell_type": "markdown",
   "metadata": {},
   "source": [
    "<b>Goal</b>: Find most probable tag for a given word\n",
    "\n",
    "<b>Solution is to use Viterbi Algorithm</b>: <br/>\n",
    "Assign tag to each word sequentially based on maximum likelihood - <br/>\n",
    "    <b>P(tag|word) = P(word|tag) * P(tag|previous word's tag)</b>\n",
    "    \n",
    "Since we find tag for words, words are what we observe, and tags will be hidden states.<br/>\n",
    "Tags can <b>'transition'</b> to other tags with <b>Transition Probability</b> P(tag|previous word's tag), or <br/>\n",
    "Tags can <b>'emit'</b> observations (words) with <b>Emission probability</b> P(word|tag).\n",
    "\n",
    "<b>Time Complexity</b>: O(nT^2) : n = number of words, T = possible tags <br/>\n",
    "\n",
    "----------------------------------------------------------------------------------------------------------------------\n"
   ]
  },
  {
   "cell_type": "markdown",
   "metadata": {},
   "source": [
    "#### Calculate Emission Probabilities"
   ]
  },
  {
   "cell_type": "markdown",
   "metadata": {},
   "source": [
    "Emission Probability: P(w|t) = count(w,t)/count(t)"
   ]
  },
  {
   "cell_type": "code",
   "execution_count": 66,
   "metadata": {},
   "outputs": [],
   "source": [
    "#Function to calculate emission probabilities\n",
    "def emission_probability(word, tag):\n",
    "    emission_prob = 0\n",
    "    tag_pairs_list = [pair for pair in train_tagged_words if pair[1]==tag]\n",
    "    if len(tag_pairs_list)>0:\n",
    "        word_given_tag_list = [pair[0] for pair in tag_pairs_list if pair[0]==word]\n",
    "        emission_prob = len(word_given_tag_list)/len(tag_pairs_list)\n",
    "    return emission_prob"
   ]
  },
  {
   "cell_type": "code",
   "execution_count": 67,
   "metadata": {},
   "outputs": [
    {
     "name": "stdout",
     "output_type": "stream",
     "text": [
      "Positive test 3.646574043685957e-05\n",
      "Negative test 0\n"
     ]
    }
   ],
   "source": [
    "#Test function\n",
    "print('Positive test', emission_probability('Pierre', 'NOUN'))\n",
    "print('Negative test', emission_probability('Pierre', 'NN'))"
   ]
  },
  {
   "cell_type": "markdown",
   "metadata": {},
   "source": [
    "#### Calculate Transition Probabilites"
   ]
  },
  {
   "cell_type": "markdown",
   "metadata": {},
   "source": [
    "Transition Probability: P(t2|t1)=count(t2,t1)/count(t1)"
   ]
  },
  {
   "cell_type": "code",
   "execution_count": 68,
   "metadata": {},
   "outputs": [],
   "source": [
    "#Function to calculate transition probabilities\n",
    "def transition_probability(tag2, tag1):\n",
    "    transition_prob = 0\n",
    "    all_tags = [pair[1] for pair in train_tagged_words]\n",
    "    count_tag1 = len([tag for tag in all_tags if tag==tag1])\n",
    "    if count_tag1>0:\n",
    "        count_tag2_after_tag1 = 0\n",
    "        for idx in range(len(all_tags)-1):\n",
    "            if all_tags[idx]==tag1 and all_tags[idx+1]==tag2:\n",
    "                count_tag2_after_tag1+=1\n",
    "        transition_prob=count_tag2_after_tag1/count_tag1\n",
    "    return transition_prob"
   ]
  },
  {
   "cell_type": "code",
   "execution_count": 69,
   "metadata": {},
   "outputs": [
    {
     "name": "stdout",
     "output_type": "stream",
     "text": [
      "Positive test 0.2646318783502899\n",
      "Negative test 0\n"
     ]
    }
   ],
   "source": [
    "#Test function\n",
    "print('Positive test', transition_probability('NOUN', 'NOUN'))\n",
    "print('Negative test', transition_probability('NOUN', 'NN'))"
   ]
  },
  {
   "cell_type": "markdown",
   "metadata": {},
   "source": [
    "#### Transition Probabilities Matrix"
   ]
  },
  {
   "cell_type": "markdown",
   "metadata": {},
   "source": [
    "Create a matrix to hold all transitional probabilities. <br/> \n",
    "There are only 12 unique tags. <br/>\n",
    "Creating a matrix makes it easier for Viterbi algorithm to directly pick the probability instead of calculating it everytime."
   ]
  },
  {
   "cell_type": "code",
   "execution_count": 70,
   "metadata": {},
   "outputs": [],
   "source": [
    "#Matrix to hold all tags\n",
    "tags_matrix = np.zeros((len(train_tags_unique), len(train_tags_unique)), dtype='float32')\n",
    "\n",
    "for i, tag1 in enumerate(train_tags_unique):\n",
    "    for j, tag2 in enumerate(train_tags_unique):\n",
    "        tags_matrix[i,j]=transition_probability(tag2, tag1)"
   ]
  },
  {
   "cell_type": "code",
   "execution_count": 71,
   "metadata": {
    "scrolled": true
   },
   "outputs": [
    {
     "data": {
      "text/html": [
       "<div>\n",
       "<style scoped>\n",
       "    .dataframe tbody tr th:only-of-type {\n",
       "        vertical-align: middle;\n",
       "    }\n",
       "\n",
       "    .dataframe tbody tr th {\n",
       "        vertical-align: top;\n",
       "    }\n",
       "\n",
       "    .dataframe thead th {\n",
       "        text-align: right;\n",
       "    }\n",
       "</style>\n",
       "<table border=\"1\" class=\"dataframe\">\n",
       "  <thead>\n",
       "    <tr style=\"text-align: right;\">\n",
       "      <th></th>\n",
       "      <th>ADV</th>\n",
       "      <th>DET</th>\n",
       "      <th>NOUN</th>\n",
       "      <th>ADP</th>\n",
       "      <th>VERB</th>\n",
       "      <th>CONJ</th>\n",
       "      <th>.</th>\n",
       "      <th>PRON</th>\n",
       "      <th>X</th>\n",
       "      <th>NUM</th>\n",
       "      <th>PRT</th>\n",
       "      <th>ADJ</th>\n",
       "    </tr>\n",
       "  </thead>\n",
       "  <tbody>\n",
       "    <tr>\n",
       "      <th>ADV</th>\n",
       "      <td>0.081063</td>\n",
       "      <td>0.067110</td>\n",
       "      <td>0.030897</td>\n",
       "      <td>0.119601</td>\n",
       "      <td>0.344518</td>\n",
       "      <td>0.006312</td>\n",
       "      <td>0.136877</td>\n",
       "      <td>0.015615</td>\n",
       "      <td>0.023588</td>\n",
       "      <td>0.030565</td>\n",
       "      <td>0.013621</td>\n",
       "      <td>0.130233</td>\n",
       "    </tr>\n",
       "    <tr>\n",
       "      <th>DET</th>\n",
       "      <td>0.012313</td>\n",
       "      <td>0.005311</td>\n",
       "      <td>0.640029</td>\n",
       "      <td>0.009054</td>\n",
       "      <td>0.038387</td>\n",
       "      <td>0.000483</td>\n",
       "      <td>0.017986</td>\n",
       "      <td>0.003742</td>\n",
       "      <td>0.045509</td>\n",
       "      <td>0.021970</td>\n",
       "      <td>0.000241</td>\n",
       "      <td>0.204973</td>\n",
       "    </tr>\n",
       "    <tr>\n",
       "      <th>NOUN</th>\n",
       "      <td>0.016884</td>\n",
       "      <td>0.013310</td>\n",
       "      <td>0.264632</td>\n",
       "      <td>0.176275</td>\n",
       "      <td>0.147978</td>\n",
       "      <td>0.041936</td>\n",
       "      <td>0.239179</td>\n",
       "      <td>0.004923</td>\n",
       "      <td>0.029136</td>\n",
       "      <td>0.009627</td>\n",
       "      <td>0.043832</td>\n",
       "      <td>0.012289</td>\n",
       "    </tr>\n",
       "    <tr>\n",
       "      <th>ADP</th>\n",
       "      <td>0.013162</td>\n",
       "      <td>0.326378</td>\n",
       "      <td>0.321776</td>\n",
       "      <td>0.017228</td>\n",
       "      <td>0.008240</td>\n",
       "      <td>0.000856</td>\n",
       "      <td>0.039486</td>\n",
       "      <td>0.069128</td>\n",
       "      <td>0.034029</td>\n",
       "      <td>0.062921</td>\n",
       "      <td>0.001498</td>\n",
       "      <td>0.105297</td>\n",
       "    </tr>\n",
       "    <tr>\n",
       "      <th>VERB</th>\n",
       "      <td>0.082577</td>\n",
       "      <td>0.133101</td>\n",
       "      <td>0.110904</td>\n",
       "      <td>0.090493</td>\n",
       "      <td>0.169189</td>\n",
       "      <td>0.005588</td>\n",
       "      <td>0.035312</td>\n",
       "      <td>0.036244</td>\n",
       "      <td>0.218005</td>\n",
       "      <td>0.022817</td>\n",
       "      <td>0.031121</td>\n",
       "      <td>0.064649</td>\n",
       "    </tr>\n",
       "  </tbody>\n",
       "</table>\n",
       "</div>"
      ],
      "text/plain": [
       "           ADV       DET      NOUN       ADP      VERB      CONJ         .  \\\n",
       "ADV   0.081063  0.067110  0.030897  0.119601  0.344518  0.006312  0.136877   \n",
       "DET   0.012313  0.005311  0.640029  0.009054  0.038387  0.000483  0.017986   \n",
       "NOUN  0.016884  0.013310  0.264632  0.176275  0.147978  0.041936  0.239179   \n",
       "ADP   0.013162  0.326378  0.321776  0.017228  0.008240  0.000856  0.039486   \n",
       "VERB  0.082577  0.133101  0.110904  0.090493  0.169189  0.005588  0.035312   \n",
       "\n",
       "          PRON         X       NUM       PRT       ADJ  \n",
       "ADV   0.015615  0.023588  0.030565  0.013621  0.130233  \n",
       "DET   0.003742  0.045509  0.021970  0.000241  0.204973  \n",
       "NOUN  0.004923  0.029136  0.009627  0.043832  0.012289  \n",
       "ADP   0.069128  0.034029  0.062921  0.001498  0.105297  \n",
       "VERB  0.036244  0.218005  0.022817  0.031121  0.064649  "
      ]
     },
     "execution_count": 71,
     "metadata": {},
     "output_type": "execute_result"
    }
   ],
   "source": [
    "#Convert the matrix to dataframe for better readability\n",
    "tags_df = pd.DataFrame(tags_matrix, columns = train_tags_unique, index=train_tags_unique)\n",
    "tags_df.head()#top 5 rows only"
   ]
  },
  {
   "cell_type": "code",
   "execution_count": 72,
   "metadata": {},
   "outputs": [
    {
     "data": {
      "image/png": "[encoded data removed]",
      "text/plain": [
       "<Figure size 720x432 with 2 Axes>"
      ]
     },
     "metadata": {
      "needs_background": "light"
     },
     "output_type": "display_data"
    }
   ],
   "source": [
    "#Check probabilities in heatmap - Just for analysis\n",
    "plt.figure(figsize=(10,6))\n",
    "sns.heatmap(tags_df)\n",
    "plt.show()"
   ]
  },
  {
   "cell_type": "code",
   "execution_count": 73,
   "metadata": {
    "scrolled": true
   },
   "outputs": [
    {
     "data": {
      "image/png": "[encoded data removed]",
      "text/plain": [
       "<Figure size 576x288 with 2 Axes>"
      ]
     },
     "metadata": {
      "needs_background": "light"
     },
     "output_type": "display_data"
    }
   ],
   "source": [
    "#Check high probabilities (>0.5) in heatmap - Just for analysis\n",
    "plt.figure(figsize=(8,4))\n",
    "sns.heatmap(tags_df[tags_df>0.5])\n",
    "plt.show()"
   ]
  },
  {
   "cell_type": "markdown",
   "metadata": {},
   "source": [
    "NOUN after DET and NOUN after ADJ looks to be highly probable"
   ]
  },
  {
   "cell_type": "code",
   "execution_count": 74,
   "metadata": {},
   "outputs": [
    {
     "name": "stdout",
     "output_type": "stream",
     "text": [
      "NOUN after DET 0.6400289715113472\n",
      "NOUN after ADJ 0.696725357906862\n"
     ]
    }
   ],
   "source": [
    "#Reprint using function to make sure we've correct probabilities in df\n",
    "print('NOUN after DET', transition_probability('NOUN','DET'))\n",
    "print('NOUN after ADJ', transition_probability('NOUN','ADJ'))"
   ]
  },
  {
   "cell_type": "markdown",
   "metadata": {},
   "source": [
    "#### Viterbi Algorithm"
   ]
  },
  {
   "cell_type": "code",
   "execution_count": 75,
   "metadata": {},
   "outputs": [],
   "source": [
    "#Plain Vanilla Viterbi Mod\n",
    "def viterbi_vanilla(words):\n",
    "    start_time = time.time()\n",
    "    state=[]\n",
    "    \n",
    "    for idx, word in enumerate(words):\n",
    "        state_proba=[]\n",
    "        \n",
    "        for tag in train_tags_unique:\n",
    "            if idx==0:\n",
    "                transition_proba = tags_df.loc['.',tag]\n",
    "            else:\n",
    "                transition_proba = tags_df.loc[state[-1],tag]\n",
    "            \n",
    "            state_proba.append(emission_probability(word, tag) * transition_proba)\n",
    "            \n",
    "        state_proba_max = max(state_proba)\n",
    "        state_max = train_tags_unique[state_proba.index(state_proba_max)] \n",
    "        state.append(state_max)\n",
    "        \n",
    "       \n",
    "    end_time = time.time()\n",
    "    print('Execution time in seconds:', end_time-start_time)\n",
    "    \n",
    "    return list(zip(words, state))"
   ]
  },
  {
   "cell_type": "markdown",
   "metadata": {},
   "source": [
    "#### Evaluate Vanilla Viterbi Accuracy"
   ]
  },
  {
   "cell_type": "code",
   "execution_count": 76,
   "metadata": {},
   "outputs": [],
   "source": [
    "#Randomly pick only top 20 test sentences, as other wise execution takes long time\n",
    "random.seed(1234)\n",
    "rndom = [random.randint(1,len(test_set)) for x in range(20)]\n",
    "\n",
    "# list of sentences\n",
    "test_run = [test_set[i] for i in rndom]\n",
    "\n",
    "# list of tagged words\n",
    "test_run_base = [tup for sent in test_run for tup in sent]\n",
    "\n",
    "# list of untagged words\n",
    "test_words = [tup[0] for sent in test_run for tup in sent]"
   ]
  },
  {
   "cell_type": "code",
   "execution_count": 77,
   "metadata": {},
   "outputs": [],
   "source": [
    "#Function to evaluate metrics\n",
    "def get_accuracy(tagged_sequence):\n",
    "    accuracy = len([i for i,j in zip(tagged_sequence, test_run_base) if i==j])/len(tagged_sequence)\n",
    "    return round(accuracy*100,2)"
   ]
  },
  {
   "cell_type": "code",
   "execution_count": 78,
   "metadata": {},
   "outputs": [
    {
     "name": "stdout",
     "output_type": "stream",
     "text": [
      "Execution time in seconds: 100.06006383895874\n",
      "Accuracy: Viterbi Vanilla 89.34\n"
     ]
    }
   ],
   "source": [
    "#Evaluate Viterbi Vanilla\n",
    "tagged_sequence_vanilla = viterbi_vanilla(test_words)\n",
    "accuracy_vanilla = get_accuracy(tagged_sequence_vanilla)\n",
    "print('Accuracy: Viterbi Vanilla', accuracy_vanilla)"
   ]
  },
  {
   "cell_type": "code",
   "execution_count": 79,
   "metadata": {},
   "outputs": [],
   "source": [
    "#Create Evaluation Metrics Dataframe\n",
    "eval_metrics = pd.DataFrame(index=['Viterbi Vanilla','Viterbi Mod 1','Viterbi Mod 2'],columns=['Accuracy'])\n",
    "eval_metrics = eval_metrics.fillna('To Do')"
   ]
  },
  {
   "cell_type": "code",
   "execution_count": 80,
   "metadata": {
    "scrolled": true
   },
   "outputs": [
    {
     "data": {
      "text/html": [
       "<div>\n",
       "<style scoped>\n",
       "    .dataframe tbody tr th:only-of-type {\n",
       "        vertical-align: middle;\n",
       "    }\n",
       "\n",
       "    .dataframe tbody tr th {\n",
       "        vertical-align: top;\n",
       "    }\n",
       "\n",
       "    .dataframe thead th {\n",
       "        text-align: right;\n",
       "    }\n",
       "</style>\n",
       "<table border=\"1\" class=\"dataframe\">\n",
       "  <thead>\n",
       "    <tr style=\"text-align: right;\">\n",
       "      <th></th>\n",
       "      <th>Accuracy</th>\n",
       "    </tr>\n",
       "  </thead>\n",
       "  <tbody>\n",
       "    <tr>\n",
       "      <th>Viterbi Vanilla</th>\n",
       "      <td>89.34</td>\n",
       "    </tr>\n",
       "    <tr>\n",
       "      <th>Viterbi Mod 1</th>\n",
       "      <td>To Do</td>\n",
       "    </tr>\n",
       "    <tr>\n",
       "      <th>Viterbi Mod 2</th>\n",
       "      <td>To Do</td>\n",
       "    </tr>\n",
       "  </tbody>\n",
       "</table>\n",
       "</div>"
      ],
      "text/plain": [
       "                Accuracy\n",
       "Viterbi Vanilla    89.34\n",
       "Viterbi Mod 1      To Do\n",
       "Viterbi Mod 2      To Do"
      ]
     },
     "execution_count": 80,
     "metadata": {},
     "output_type": "execute_result"
    }
   ],
   "source": [
    "#Storing Viterbi Accuracy in dataframe\n",
    "eval_metrics.loc['Viterbi Vanilla'] = accuracy_vanilla\n",
    "eval_metrics.head()"
   ]
  },
  {
   "cell_type": "markdown",
   "metadata": {},
   "source": [
    "#### Check correctly vs incorrectly tagged words"
   ]
  },
  {
   "cell_type": "code",
   "execution_count": 81,
   "metadata": {
    "scrolled": true
   },
   "outputs": [
    {
     "data": {
      "text/html": [
       "<div>\n",
       "<style scoped>\n",
       "    .dataframe tbody tr th:only-of-type {\n",
       "        vertical-align: middle;\n",
       "    }\n",
       "\n",
       "    .dataframe tbody tr th {\n",
       "        vertical-align: top;\n",
       "    }\n",
       "\n",
       "    .dataframe thead th {\n",
       "        text-align: right;\n",
       "    }\n",
       "</style>\n",
       "<table border=\"1\" class=\"dataframe\">\n",
       "  <thead>\n",
       "    <tr style=\"text-align: right;\">\n",
       "      <th></th>\n",
       "      <th>Previous Word</th>\n",
       "      <th>Current Word</th>\n",
       "      <th>Original tag</th>\n",
       "      <th>Viterbi Vanilla tag</th>\n",
       "    </tr>\n",
       "  </thead>\n",
       "  <tbody>\n",
       "    <tr>\n",
       "      <th>0</th>\n",
       "      <td>.</td>\n",
       "      <td>Shearson</td>\n",
       "      <td>NOUN</td>\n",
       "      <td>NOUN</td>\n",
       "    </tr>\n",
       "    <tr>\n",
       "      <th>1</th>\n",
       "      <td>Shearson</td>\n",
       "      <td>``</td>\n",
       "      <td>.</td>\n",
       "      <td>.</td>\n",
       "    </tr>\n",
       "    <tr>\n",
       "      <th>2</th>\n",
       "      <td>``</td>\n",
       "      <td>really</td>\n",
       "      <td>ADV</td>\n",
       "      <td>ADV</td>\n",
       "    </tr>\n",
       "    <tr>\n",
       "      <th>3</th>\n",
       "      <td>really</td>\n",
       "      <td>only</td>\n",
       "      <td>ADV</td>\n",
       "      <td>ADV</td>\n",
       "    </tr>\n",
       "    <tr>\n",
       "      <th>4</th>\n",
       "      <td>only</td>\n",
       "      <td>has</td>\n",
       "      <td>VERB</td>\n",
       "      <td>VERB</td>\n",
       "    </tr>\n",
       "    <tr>\n",
       "      <th>5</th>\n",
       "      <td>has</td>\n",
       "      <td>$</td>\n",
       "      <td>.</td>\n",
       "      <td>.</td>\n",
       "    </tr>\n",
       "    <tr>\n",
       "      <th>6</th>\n",
       "      <td>$</td>\n",
       "      <td>300</td>\n",
       "      <td>NUM</td>\n",
       "      <td>NUM</td>\n",
       "    </tr>\n",
       "    <tr>\n",
       "      <th>7</th>\n",
       "      <td>300</td>\n",
       "      <td>million</td>\n",
       "      <td>NUM</td>\n",
       "      <td>NUM</td>\n",
       "    </tr>\n",
       "    <tr>\n",
       "      <th>8</th>\n",
       "      <td>million</td>\n",
       "      <td>*U*</td>\n",
       "      <td>X</td>\n",
       "      <td>X</td>\n",
       "    </tr>\n",
       "    <tr>\n",
       "      <th>9</th>\n",
       "      <td>*U*</td>\n",
       "      <td>of</td>\n",
       "      <td>ADP</td>\n",
       "      <td>ADP</td>\n",
       "    </tr>\n",
       "  </tbody>\n",
       "</table>\n",
       "</div>"
      ],
      "text/plain": [
       "  Previous Word Current Word Original tag Viterbi Vanilla tag\n",
       "0             .     Shearson         NOUN                NOUN\n",
       "1      Shearson           ``            .                   .\n",
       "2            ``       really          ADV                 ADV\n",
       "3        really         only          ADV                 ADV\n",
       "4          only          has         VERB                VERB\n",
       "5           has            $            .                   .\n",
       "6             $          300          NUM                 NUM\n",
       "7           300      million          NUM                 NUM\n",
       "8       million          *U*            X                   X\n",
       "9           *U*           of          ADP                 ADP"
      ]
     },
     "execution_count": 81,
     "metadata": {},
     "output_type": "execute_result"
    }
   ],
   "source": [
    "#Build predicted tags dataframe\n",
    "sequence = [[test_run_base[i-1],j] for i, j in enumerate(zip(tagged_sequence_vanilla, test_run_base))]\n",
    "predicted_tags_df = pd.DataFrame()\n",
    "predicted_tags_df['Previous Word']=[row[0][0] for row in sequence]\n",
    "predicted_tags_df['Current Word']=[row[1][0][0] for row in sequence]\n",
    "predicted_tags_df['Original tag']=[row[1][1][1] for row in sequence]\n",
    "predicted_tags_df['Viterbi Vanilla tag']=[row[1][0][1] for row in sequence]\n",
    "predicted_tags_df.head(10)"
   ]
  },
  {
   "cell_type": "code",
   "execution_count": 82,
   "metadata": {},
   "outputs": [
    {
     "data": {
      "text/html": [
       "<div>\n",
       "<style scoped>\n",
       "    .dataframe tbody tr th:only-of-type {\n",
       "        vertical-align: middle;\n",
       "    }\n",
       "\n",
       "    .dataframe tbody tr th {\n",
       "        vertical-align: top;\n",
       "    }\n",
       "\n",
       "    .dataframe thead th {\n",
       "        text-align: right;\n",
       "    }\n",
       "</style>\n",
       "<table border=\"1\" class=\"dataframe\">\n",
       "  <thead>\n",
       "    <tr style=\"text-align: right;\">\n",
       "      <th></th>\n",
       "      <th>Previous Word</th>\n",
       "      <th>Current Word</th>\n",
       "      <th>Original tag</th>\n",
       "      <th>Viterbi Vanilla tag</th>\n",
       "    </tr>\n",
       "  </thead>\n",
       "  <tbody>\n",
       "    <tr>\n",
       "      <th>21</th>\n",
       "      <td>ShareData</td>\n",
       "      <td>develops</td>\n",
       "      <td>VERB</td>\n",
       "      <td>ADV</td>\n",
       "    </tr>\n",
       "    <tr>\n",
       "      <th>23</th>\n",
       "      <td>and</td>\n",
       "      <td>markets</td>\n",
       "      <td>VERB</td>\n",
       "      <td>NOUN</td>\n",
       "    </tr>\n",
       "    <tr>\n",
       "      <th>24</th>\n",
       "      <td>markets</td>\n",
       "      <td>low-cost</td>\n",
       "      <td>ADJ</td>\n",
       "      <td>ADV</td>\n",
       "    </tr>\n",
       "    <tr>\n",
       "      <th>37</th>\n",
       "      <td>settled</td>\n",
       "      <td>pre-1917</td>\n",
       "      <td>ADJ</td>\n",
       "      <td>ADV</td>\n",
       "    </tr>\n",
       "    <tr>\n",
       "      <th>52</th>\n",
       "      <td>When</td>\n",
       "      <td>test</td>\n",
       "      <td>NOUN</td>\n",
       "      <td>VERB</td>\n",
       "    </tr>\n",
       "    <tr>\n",
       "      <th>57</th>\n",
       "      <td>*-1</td>\n",
       "      <td>out</td>\n",
       "      <td>ADV</td>\n",
       "      <td>PRT</td>\n",
       "    </tr>\n",
       "    <tr>\n",
       "      <th>69</th>\n",
       "      <td>she</td>\n",
       "      <td>copied</td>\n",
       "      <td>VERB</td>\n",
       "      <td>ADV</td>\n",
       "    </tr>\n",
       "    <tr>\n",
       "      <th>101</th>\n",
       "      <td>totaled</td>\n",
       "      <td>154.2</td>\n",
       "      <td>NUM</td>\n",
       "      <td>ADV</td>\n",
       "    </tr>\n",
       "    <tr>\n",
       "      <th>112</th>\n",
       "      <td>enormously</td>\n",
       "      <td>frustrating</td>\n",
       "      <td>VERB</td>\n",
       "      <td>ADV</td>\n",
       "    </tr>\n",
       "    <tr>\n",
       "      <th>128</th>\n",
       "      <td>computer</td>\n",
       "      <td>science</td>\n",
       "      <td>NOUN</td>\n",
       "      <td>ADV</td>\n",
       "    </tr>\n",
       "  </tbody>\n",
       "</table>\n",
       "</div>"
      ],
      "text/plain": [
       "    Previous Word Current Word Original tag Viterbi Vanilla tag\n",
       "21      ShareData     develops         VERB                 ADV\n",
       "23            and      markets         VERB                NOUN\n",
       "24        markets     low-cost          ADJ                 ADV\n",
       "37        settled     pre-1917          ADJ                 ADV\n",
       "52           When         test         NOUN                VERB\n",
       "57            *-1          out          ADV                 PRT\n",
       "69            she       copied         VERB                 ADV\n",
       "101       totaled        154.2          NUM                 ADV\n",
       "112    enormously  frustrating         VERB                 ADV\n",
       "128      computer      science         NOUN                 ADV"
      ]
     },
     "execution_count": 82,
     "metadata": {},
     "output_type": "execute_result"
    }
   ],
   "source": [
    "#Check incorrect words\n",
    "incorrect_tags_df = predicted_tags_df[predicted_tags_df['Original tag']!=predicted_tags_df['Viterbi Vanilla tag']]\n",
    "incorrect_tags_df.head(10)"
   ]
  },
  {
   "cell_type": "markdown",
   "metadata": {},
   "source": [
    "#### Observations from incorrect tags"
   ]
  },
  {
   "cell_type": "code",
   "execution_count": 83,
   "metadata": {},
   "outputs": [
    {
     "data": {
      "text/plain": [
       "'ADV'"
      ]
     },
     "execution_count": 83,
     "metadata": {},
     "output_type": "execute_result"
    }
   ],
   "source": [
    "#Most common incorrect tags\n",
    "most_common_incorrect_tag = Counter(incorrect_tags_df['Viterbi Vanilla tag']).most_common(1)[0][0]\n",
    "most_common_incorrect_tag"
   ]
  },
  {
   "cell_type": "code",
   "execution_count": 84,
   "metadata": {},
   "outputs": [
    {
     "data": {
      "text/plain": [
       "NOUN    14\n",
       "VERB    11\n",
       "ADJ     11\n",
       "NUM      2\n",
       "ADP      1\n",
       "Name: Original tag, dtype: int64"
      ]
     },
     "execution_count": 84,
     "metadata": {},
     "output_type": "execute_result"
    }
   ],
   "source": [
    "#Tags that are incorrectly identified\n",
    "incorrect_tags_df[(incorrect_tags_df['Viterbi Vanilla tag']==most_common_incorrect_tag)]['Original tag'].value_counts()"
   ]
  },
  {
   "cell_type": "code",
   "execution_count": 85,
   "metadata": {},
   "outputs": [
    {
     "data": {
      "text/html": [
       "<div>\n",
       "<style scoped>\n",
       "    .dataframe tbody tr th:only-of-type {\n",
       "        vertical-align: middle;\n",
       "    }\n",
       "\n",
       "    .dataframe tbody tr th {\n",
       "        vertical-align: top;\n",
       "    }\n",
       "\n",
       "    .dataframe thead th {\n",
       "        text-align: right;\n",
       "    }\n",
       "</style>\n",
       "<table border=\"1\" class=\"dataframe\">\n",
       "  <thead>\n",
       "    <tr style=\"text-align: right;\">\n",
       "      <th></th>\n",
       "      <th>Previous Word</th>\n",
       "      <th>Current Word</th>\n",
       "      <th>Original tag</th>\n",
       "      <th>Viterbi Vanilla tag</th>\n",
       "    </tr>\n",
       "  </thead>\n",
       "  <tbody>\n",
       "    <tr>\n",
       "      <th>128</th>\n",
       "      <td>computer</td>\n",
       "      <td>science</td>\n",
       "      <td>NOUN</td>\n",
       "      <td>ADV</td>\n",
       "    </tr>\n",
       "    <tr>\n",
       "      <th>136</th>\n",
       "      <td>another</td>\n",
       "      <td>Walkman</td>\n",
       "      <td>NOUN</td>\n",
       "      <td>ADV</td>\n",
       "    </tr>\n",
       "    <tr>\n",
       "      <th>150</th>\n",
       "      <td>sell</td>\n",
       "      <td>TXO</td>\n",
       "      <td>NOUN</td>\n",
       "      <td>ADV</td>\n",
       "    </tr>\n",
       "    <tr>\n",
       "      <th>233</th>\n",
       "      <td>the</td>\n",
       "      <td>insurgents</td>\n",
       "      <td>NOUN</td>\n",
       "      <td>ADV</td>\n",
       "    </tr>\n",
       "    <tr>\n",
       "      <th>247</th>\n",
       "      <td>the</td>\n",
       "      <td>Iran-Contra</td>\n",
       "      <td>NOUN</td>\n",
       "      <td>ADV</td>\n",
       "    </tr>\n",
       "  </tbody>\n",
       "</table>\n",
       "</div>"
      ],
      "text/plain": [
       "    Previous Word Current Word Original tag Viterbi Vanilla tag\n",
       "128      computer      science         NOUN                 ADV\n",
       "136       another      Walkman         NOUN                 ADV\n",
       "150          sell          TXO         NOUN                 ADV\n",
       "233           the   insurgents         NOUN                 ADV\n",
       "247           the  Iran-Contra         NOUN                 ADV"
      ]
     },
     "execution_count": 85,
     "metadata": {},
     "output_type": "execute_result"
    }
   ],
   "source": [
    "#Check NOUN tagged incorrectly\n",
    "incorrect_tags_df[(incorrect_tags_df['Viterbi Vanilla tag']==most_common_incorrect_tag) & (incorrect_tags_df['Original tag']=='NOUN')].head()\n",
    "#If unknown word start with a capital letter, mark it as NOUN - Handle in Regex"
   ]
  },
  {
   "cell_type": "code",
   "execution_count": 86,
   "metadata": {},
   "outputs": [
    {
     "data": {
      "text/html": [
       "<div>\n",
       "<style scoped>\n",
       "    .dataframe tbody tr th:only-of-type {\n",
       "        vertical-align: middle;\n",
       "    }\n",
       "\n",
       "    .dataframe tbody tr th {\n",
       "        vertical-align: top;\n",
       "    }\n",
       "\n",
       "    .dataframe thead th {\n",
       "        text-align: right;\n",
       "    }\n",
       "</style>\n",
       "<table border=\"1\" class=\"dataframe\">\n",
       "  <thead>\n",
       "    <tr style=\"text-align: right;\">\n",
       "      <th></th>\n",
       "      <th>Previous Word</th>\n",
       "      <th>Current Word</th>\n",
       "      <th>Original tag</th>\n",
       "      <th>Viterbi Vanilla tag</th>\n",
       "    </tr>\n",
       "  </thead>\n",
       "  <tbody>\n",
       "    <tr>\n",
       "      <th>21</th>\n",
       "      <td>ShareData</td>\n",
       "      <td>develops</td>\n",
       "      <td>VERB</td>\n",
       "      <td>ADV</td>\n",
       "    </tr>\n",
       "    <tr>\n",
       "      <th>69</th>\n",
       "      <td>she</td>\n",
       "      <td>copied</td>\n",
       "      <td>VERB</td>\n",
       "      <td>ADV</td>\n",
       "    </tr>\n",
       "    <tr>\n",
       "      <th>112</th>\n",
       "      <td>enormously</td>\n",
       "      <td>frustrating</td>\n",
       "      <td>VERB</td>\n",
       "      <td>ADV</td>\n",
       "    </tr>\n",
       "    <tr>\n",
       "      <th>134</th>\n",
       "      <td>to</td>\n",
       "      <td>invent</td>\n",
       "      <td>VERB</td>\n",
       "      <td>ADV</td>\n",
       "    </tr>\n",
       "    <tr>\n",
       "      <th>145</th>\n",
       "      <td>was</td>\n",
       "      <td>soliciting</td>\n",
       "      <td>VERB</td>\n",
       "      <td>ADV</td>\n",
       "    </tr>\n",
       "    <tr>\n",
       "      <th>223</th>\n",
       "      <td>but</td>\n",
       "      <td>brushed</td>\n",
       "      <td>VERB</td>\n",
       "      <td>ADV</td>\n",
       "    </tr>\n",
       "    <tr>\n",
       "      <th>228</th>\n",
       "      <td>*</td>\n",
       "      <td>renewing</td>\n",
       "      <td>VERB</td>\n",
       "      <td>ADV</td>\n",
       "    </tr>\n",
       "    <tr>\n",
       "      <th>251</th>\n",
       "      <td>*-1</td>\n",
       "      <td>Funded</td>\n",
       "      <td>VERB</td>\n",
       "      <td>ADV</td>\n",
       "    </tr>\n",
       "    <tr>\n",
       "      <th>307</th>\n",
       "      <td>n't</td>\n",
       "      <td>noticed</td>\n",
       "      <td>VERB</td>\n",
       "      <td>ADV</td>\n",
       "    </tr>\n",
       "    <tr>\n",
       "      <th>314</th>\n",
       "      <td>*-1</td>\n",
       "      <td>Funded</td>\n",
       "      <td>VERB</td>\n",
       "      <td>ADV</td>\n",
       "    </tr>\n",
       "  </tbody>\n",
       "</table>\n",
       "</div>"
      ],
      "text/plain": [
       "    Previous Word Current Word Original tag Viterbi Vanilla tag\n",
       "21      ShareData     develops         VERB                 ADV\n",
       "69            she       copied         VERB                 ADV\n",
       "112    enormously  frustrating         VERB                 ADV\n",
       "134            to       invent         VERB                 ADV\n",
       "145           was   soliciting         VERB                 ADV\n",
       "223           but      brushed         VERB                 ADV\n",
       "228             *     renewing         VERB                 ADV\n",
       "251           *-1       Funded         VERB                 ADV\n",
       "307           n't      noticed         VERB                 ADV\n",
       "314           *-1       Funded         VERB                 ADV"
      ]
     },
     "execution_count": 86,
     "metadata": {},
     "output_type": "execute_result"
    }
   ],
   "source": [
    "#Check VERB tagged incorrectly\n",
    "incorrect_tags_df[(incorrect_tags_df['Viterbi Vanilla tag']==most_common_incorrect_tag) & (incorrect_tags_df['Original tag']=='VERB')].head(10)\n",
    "#If unknown word start ends in 'ing','ed', mark it as VERB - Handle in Regex"
   ]
  },
  {
   "cell_type": "code",
   "execution_count": 87,
   "metadata": {},
   "outputs": [
    {
     "data": {
      "text/html": [
       "<div>\n",
       "<style scoped>\n",
       "    .dataframe tbody tr th:only-of-type {\n",
       "        vertical-align: middle;\n",
       "    }\n",
       "\n",
       "    .dataframe tbody tr th {\n",
       "        vertical-align: top;\n",
       "    }\n",
       "\n",
       "    .dataframe thead th {\n",
       "        text-align: right;\n",
       "    }\n",
       "</style>\n",
       "<table border=\"1\" class=\"dataframe\">\n",
       "  <thead>\n",
       "    <tr style=\"text-align: right;\">\n",
       "      <th></th>\n",
       "      <th>Previous Word</th>\n",
       "      <th>Current Word</th>\n",
       "      <th>Original tag</th>\n",
       "      <th>Viterbi Vanilla tag</th>\n",
       "    </tr>\n",
       "  </thead>\n",
       "  <tbody>\n",
       "    <tr>\n",
       "      <th>24</th>\n",
       "      <td>markets</td>\n",
       "      <td>low-cost</td>\n",
       "      <td>ADJ</td>\n",
       "      <td>ADV</td>\n",
       "    </tr>\n",
       "    <tr>\n",
       "      <th>37</th>\n",
       "      <td>settled</td>\n",
       "      <td>pre-1917</td>\n",
       "      <td>ADJ</td>\n",
       "      <td>ADV</td>\n",
       "    </tr>\n",
       "    <tr>\n",
       "      <th>176</th>\n",
       "      <td>of</td>\n",
       "      <td>manmade-fiber</td>\n",
       "      <td>ADJ</td>\n",
       "      <td>ADV</td>\n",
       "    </tr>\n",
       "    <tr>\n",
       "      <th>247</th>\n",
       "      <td>the</td>\n",
       "      <td>Iran-Contra</td>\n",
       "      <td>NOUN</td>\n",
       "      <td>ADV</td>\n",
       "    </tr>\n",
       "    <tr>\n",
       "      <th>419</th>\n",
       "      <td>estimated</td>\n",
       "      <td>seven-million-ton</td>\n",
       "      <td>ADJ</td>\n",
       "      <td>ADV</td>\n",
       "    </tr>\n",
       "    <tr>\n",
       "      <th>443</th>\n",
       "      <td>a</td>\n",
       "      <td>low-tech</td>\n",
       "      <td>ADJ</td>\n",
       "      <td>ADV</td>\n",
       "    </tr>\n",
       "  </tbody>\n",
       "</table>\n",
       "</div>"
      ],
      "text/plain": [
       "    Previous Word       Current Word Original tag Viterbi Vanilla tag\n",
       "24        markets           low-cost          ADJ                 ADV\n",
       "37        settled           pre-1917          ADJ                 ADV\n",
       "176            of      manmade-fiber          ADJ                 ADV\n",
       "247           the        Iran-Contra         NOUN                 ADV\n",
       "419     estimated  seven-million-ton          ADJ                 ADV\n",
       "443             a           low-tech          ADJ                 ADV"
      ]
     },
     "execution_count": 87,
     "metadata": {},
     "output_type": "execute_result"
    }
   ],
   "source": [
    "#A hiphen in word - should be tagged as ADJ - handle with Regex\n",
    "incorrect_tags_df[incorrect_tags_df['Current Word'].str.contains('-')]"
   ]
  },
  {
   "cell_type": "markdown",
   "metadata": {},
   "source": [
    "#### Action based on observations of incorrect tags"
   ]
  },
  {
   "cell_type": "markdown",
   "metadata": {},
   "source": [
    "Handle below with Regex Tagger:\n",
    "1. If unknown word start with a capital letter, mark it as NOUN\n",
    "2. If unknown word start ends in 'ing','ed', mark it as VERB\n",
    "3. A hiphen in word - should be tagged as ADJ"
   ]
  },
  {
   "cell_type": "markdown",
   "metadata": {},
   "source": [
    "### Method 1 - Handle Unknown Words"
   ]
  },
  {
   "cell_type": "markdown",
   "metadata": {},
   "source": [
    "In Vanilla Viterbi, since emission probability is 0 for an unknown word, the algorithm is just picking up the first tag. <br/> In first modification to Viterbi, we will handle cases where when emission probability is 0.<br/>\n",
    "Make state probability <b>solely depend on transition probability when emission probability is 0</b>.<br/> "
   ]
  },
  {
   "cell_type": "code",
   "execution_count": 88,
   "metadata": {},
   "outputs": [],
   "source": [
    "#Viterbi Modification 1 with handling of zero emission probabilities\n",
    "#Only transition probability will drive the tag determination in this method\n",
    "def viterbi_mod1(words):\n",
    "    start_time = time.time()\n",
    "    state=[]\n",
    "    \n",
    "    for idx, word in enumerate(words):\n",
    "        state_proba=[]\n",
    "        tran_proba=[]\n",
    "        \n",
    "        for tag in train_tags_unique:\n",
    "            if idx==0:\n",
    "                transition_proba = tags_df.loc['.',tag]\n",
    "            else:\n",
    "                transition_proba = tags_df.loc[state[-1],tag]\n",
    "            \n",
    "            state_proba.append(emission_probability(word, tag) * transition_proba)\n",
    "            tran_proba.append(transition_proba)\n",
    "            \n",
    "        state_proba_max = max(state_proba)\n",
    "        if state_proba_max==0:\n",
    "            tran_proba_max = max(tran_proba)\n",
    "            state_max = train_tags_unique[tran_proba.index(tran_proba_max)] \n",
    "        else:    \n",
    "            state_max = train_tags_unique[state_proba.index(state_proba_max)] \n",
    "        \n",
    "        state.append(state_max)\n",
    "    \n",
    "    end_time = time.time()\n",
    "    print('Execution time in seconds:', end_time-start_time)\n",
    "    \n",
    "    return list(zip(words, state))"
   ]
  },
  {
   "cell_type": "code",
   "execution_count": 89,
   "metadata": {},
   "outputs": [
    {
     "name": "stdout",
     "output_type": "stream",
     "text": [
      "Execution time in seconds: 100.93686294555664\n",
      "Accuracy: Viterbi Mod 1 93.03\n"
     ]
    }
   ],
   "source": [
    "#Evaluate Viterbi Mod 1\n",
    "tagged_sequence_mod1 = viterbi_mod1(test_words)\n",
    "accuracy_mod1 = get_accuracy(tagged_sequence_mod1)\n",
    "print('Accuracy: Viterbi Mod 1', accuracy_mod1)"
   ]
  },
  {
   "cell_type": "code",
   "execution_count": 90,
   "metadata": {
    "scrolled": true
   },
   "outputs": [
    {
     "data": {
      "text/html": [
       "<div>\n",
       "<style scoped>\n",
       "    .dataframe tbody tr th:only-of-type {\n",
       "        vertical-align: middle;\n",
       "    }\n",
       "\n",
       "    .dataframe tbody tr th {\n",
       "        vertical-align: top;\n",
       "    }\n",
       "\n",
       "    .dataframe thead th {\n",
       "        text-align: right;\n",
       "    }\n",
       "</style>\n",
       "<table border=\"1\" class=\"dataframe\">\n",
       "  <thead>\n",
       "    <tr style=\"text-align: right;\">\n",
       "      <th></th>\n",
       "      <th>Accuracy</th>\n",
       "    </tr>\n",
       "  </thead>\n",
       "  <tbody>\n",
       "    <tr>\n",
       "      <th>Viterbi Vanilla</th>\n",
       "      <td>89.34</td>\n",
       "    </tr>\n",
       "    <tr>\n",
       "      <th>Viterbi Mod 1</th>\n",
       "      <td>93.03</td>\n",
       "    </tr>\n",
       "    <tr>\n",
       "      <th>Viterbi Mod 2</th>\n",
       "      <td>To Do</td>\n",
       "    </tr>\n",
       "  </tbody>\n",
       "</table>\n",
       "</div>"
      ],
      "text/plain": [
       "                Accuracy\n",
       "Viterbi Vanilla    89.34\n",
       "Viterbi Mod 1      93.03\n",
       "Viterbi Mod 2      To Do"
      ]
     },
     "execution_count": 90,
     "metadata": {},
     "output_type": "execute_result"
    }
   ],
   "source": [
    "#Storing Viterbi Mod 1 Accuracy in dataframe\n",
    "eval_metrics.loc['Viterbi Mod 1'] = accuracy_mod1\n",
    "eval_metrics.head()"
   ]
  },
  {
   "cell_type": "code",
   "execution_count": 91,
   "metadata": {},
   "outputs": [],
   "source": [
    "#Build Predicted tags dataframe\n",
    "predicted_tags_df['Viterbi Mod 1 tag']=[pair[1] for pair in tagged_sequence_mod1]"
   ]
  },
  {
   "cell_type": "markdown",
   "metadata": {},
   "source": [
    "#### Difference between mod 1 and Vanilla Viterbi"
   ]
  },
  {
   "cell_type": "code",
   "execution_count": 92,
   "metadata": {
    "scrolled": true
   },
   "outputs": [
    {
     "data": {
      "text/html": [
       "<div>\n",
       "<style scoped>\n",
       "    .dataframe tbody tr th:only-of-type {\n",
       "        vertical-align: middle;\n",
       "    }\n",
       "\n",
       "    .dataframe tbody tr th {\n",
       "        vertical-align: top;\n",
       "    }\n",
       "\n",
       "    .dataframe thead th {\n",
       "        text-align: right;\n",
       "    }\n",
       "</style>\n",
       "<table border=\"1\" class=\"dataframe\">\n",
       "  <thead>\n",
       "    <tr style=\"text-align: right;\">\n",
       "      <th></th>\n",
       "      <th>Previous Word</th>\n",
       "      <th>Current Word</th>\n",
       "      <th>Original tag</th>\n",
       "      <th>Viterbi Vanilla tag</th>\n",
       "      <th>Viterbi Mod 1 tag</th>\n",
       "    </tr>\n",
       "  </thead>\n",
       "  <tbody>\n",
       "    <tr>\n",
       "      <th>69</th>\n",
       "      <td>she</td>\n",
       "      <td>copied</td>\n",
       "      <td>VERB</td>\n",
       "      <td>ADV</td>\n",
       "      <td>VERB</td>\n",
       "    </tr>\n",
       "    <tr>\n",
       "      <th>112</th>\n",
       "      <td>enormously</td>\n",
       "      <td>frustrating</td>\n",
       "      <td>VERB</td>\n",
       "      <td>ADV</td>\n",
       "      <td>VERB</td>\n",
       "    </tr>\n",
       "    <tr>\n",
       "      <th>128</th>\n",
       "      <td>computer</td>\n",
       "      <td>science</td>\n",
       "      <td>NOUN</td>\n",
       "      <td>ADV</td>\n",
       "      <td>NOUN</td>\n",
       "    </tr>\n",
       "    <tr>\n",
       "      <th>134</th>\n",
       "      <td>to</td>\n",
       "      <td>invent</td>\n",
       "      <td>VERB</td>\n",
       "      <td>ADV</td>\n",
       "      <td>VERB</td>\n",
       "    </tr>\n",
       "    <tr>\n",
       "      <th>136</th>\n",
       "      <td>another</td>\n",
       "      <td>Walkman</td>\n",
       "      <td>NOUN</td>\n",
       "      <td>ADV</td>\n",
       "      <td>NOUN</td>\n",
       "    </tr>\n",
       "    <tr>\n",
       "      <th>224</th>\n",
       "      <td>brushed</td>\n",
       "      <td>off</td>\n",
       "      <td>PRT</td>\n",
       "      <td>ADP</td>\n",
       "      <td>PRT</td>\n",
       "    </tr>\n",
       "    <tr>\n",
       "      <th>228</th>\n",
       "      <td>*</td>\n",
       "      <td>renewing</td>\n",
       "      <td>VERB</td>\n",
       "      <td>ADV</td>\n",
       "      <td>VERB</td>\n",
       "    </tr>\n",
       "    <tr>\n",
       "      <th>233</th>\n",
       "      <td>the</td>\n",
       "      <td>insurgents</td>\n",
       "      <td>NOUN</td>\n",
       "      <td>ADV</td>\n",
       "      <td>NOUN</td>\n",
       "    </tr>\n",
       "    <tr>\n",
       "      <th>247</th>\n",
       "      <td>the</td>\n",
       "      <td>Iran-Contra</td>\n",
       "      <td>NOUN</td>\n",
       "      <td>ADV</td>\n",
       "      <td>NOUN</td>\n",
       "    </tr>\n",
       "    <tr>\n",
       "      <th>251</th>\n",
       "      <td>*-1</td>\n",
       "      <td>Funded</td>\n",
       "      <td>VERB</td>\n",
       "      <td>ADV</td>\n",
       "      <td>VERB</td>\n",
       "    </tr>\n",
       "  </tbody>\n",
       "</table>\n",
       "</div>"
      ],
      "text/plain": [
       "    Previous Word Current Word Original tag Viterbi Vanilla tag  \\\n",
       "69            she       copied         VERB                 ADV   \n",
       "112    enormously  frustrating         VERB                 ADV   \n",
       "128      computer      science         NOUN                 ADV   \n",
       "134            to       invent         VERB                 ADV   \n",
       "136       another      Walkman         NOUN                 ADV   \n",
       "224       brushed          off          PRT                 ADP   \n",
       "228             *     renewing         VERB                 ADV   \n",
       "233           the   insurgents         NOUN                 ADV   \n",
       "247           the  Iran-Contra         NOUN                 ADV   \n",
       "251           *-1       Funded         VERB                 ADV   \n",
       "\n",
       "    Viterbi Mod 1 tag  \n",
       "69               VERB  \n",
       "112              VERB  \n",
       "128              NOUN  \n",
       "134              VERB  \n",
       "136              NOUN  \n",
       "224               PRT  \n",
       "228              VERB  \n",
       "233              NOUN  \n",
       "247              NOUN  \n",
       "251              VERB  "
      ]
     },
     "execution_count": 92,
     "metadata": {},
     "output_type": "execute_result"
    }
   ],
   "source": [
    "#Below tags were correctly predicted by mod 1, which vanilla failed predicting\n",
    "mod1_corrections_df = predicted_tags_df[(predicted_tags_df['Original tag']==predicted_tags_df['Viterbi Mod 1 tag']) & (predicted_tags_df['Original tag']!=predicted_tags_df['Viterbi Vanilla tag'])]\n",
    "mod1_corrections_df.head(10)"
   ]
  },
  {
   "cell_type": "markdown",
   "metadata": {},
   "source": [
    "### Method 2 - Handle Unknown Words"
   ]
  },
  {
   "cell_type": "markdown",
   "metadata": {},
   "source": [
    "In Vanilla Viterbi, since emission probability is 0 for an unknown word, the algorithm is just picking up the first tag. <br/> In Second modification to Viterbi, we will handle cases where when emission probability is 0.<br/>\n",
    "Assign tags to unknown words using <b>Regular Expression Tagger.</b> <br/> "
   ]
  },
  {
   "cell_type": "code",
   "execution_count": 93,
   "metadata": {},
   "outputs": [],
   "source": [
    "#Viterbi Modification 2 with handling of zero emission probabilities\n",
    "#Regex Tagger will determine the tags for unknown words\n",
    "def viterbi_mod2(words):\n",
    "    start_time = time.time()\n",
    "    state=[]\n",
    "    \n",
    "    patterns = [ \n",
    "        (r'(?=\\S*[''-])([a-zA-Z''-]+)','ADJ'),#word containing hiphen\n",
    "        (r'[aA-zZ]+(ed|ing|es)$', 'VERB'),#ends with ed in es\n",
    "        (r'^[A-Z][aA-zZ]*','NOUN'),#Starts with capital letter\n",
    "        (r'^(0|[1-9][0-9]*)$','NUM'),#Numbers\n",
    "        (r'.*','NOUN')#assign most common tag to unknown word when nothing else matches\n",
    "    ]\n",
    "    \n",
    "    # reg ex tagger\n",
    "    tagger = nltk.RegexpTagger(patterns)\n",
    "    \n",
    "    for idx, word in enumerate(words):\n",
    "        state_proba=[]\n",
    "        \n",
    "        for tag in train_tags_unique:\n",
    "            if idx==0:\n",
    "                transition_proba = tags_df.loc['.',tag]\n",
    "            else:\n",
    "                transition_proba = tags_df.loc[state[-1],tag]\n",
    "            \n",
    "            state_proba.append(emission_probability(word, tag) * transition_proba)\n",
    "            \n",
    "        state_proba_max = max(state_proba)\n",
    "        if state_proba_max==0:\n",
    "            state_max = tagger.tag_sents([[(word)]])[0][0][1] #Tag uknown words via tagger\n",
    "        else:    \n",
    "            state_max = train_tags_unique[state_proba.index(state_proba_max)] \n",
    "        \n",
    "        state.append(state_max)\n",
    "    \n",
    "    end_time = time.time()\n",
    "    print('Execution time in seconds:', end_time-start_time)\n",
    "    \n",
    "    return list(zip(words, state))"
   ]
  },
  {
   "cell_type": "code",
   "execution_count": 94,
   "metadata": {},
   "outputs": [
    {
     "name": "stdout",
     "output_type": "stream",
     "text": [
      "Execution time in seconds: 100.58340549468994\n",
      "Accuracy: Viterbi Mod 2 94.88\n"
     ]
    }
   ],
   "source": [
    "#Evaluate Viterbi Mod 2 - Use Regex tagger for cases when emission probability is zero\n",
    "tagged_sequence_mod2 = viterbi_mod2(test_words)\n",
    "accuracy_mod2 = get_accuracy(tagged_sequence_mod2)\n",
    "print('Accuracy: Viterbi Mod 2', accuracy_mod2)"
   ]
  },
  {
   "cell_type": "code",
   "execution_count": 95,
   "metadata": {},
   "outputs": [
    {
     "data": {
      "text/html": [
       "<div>\n",
       "<style scoped>\n",
       "    .dataframe tbody tr th:only-of-type {\n",
       "        vertical-align: middle;\n",
       "    }\n",
       "\n",
       "    .dataframe tbody tr th {\n",
       "        vertical-align: top;\n",
       "    }\n",
       "\n",
       "    .dataframe thead th {\n",
       "        text-align: right;\n",
       "    }\n",
       "</style>\n",
       "<table border=\"1\" class=\"dataframe\">\n",
       "  <thead>\n",
       "    <tr style=\"text-align: right;\">\n",
       "      <th></th>\n",
       "      <th>Accuracy</th>\n",
       "    </tr>\n",
       "  </thead>\n",
       "  <tbody>\n",
       "    <tr>\n",
       "      <th>Viterbi Vanilla</th>\n",
       "      <td>89.34</td>\n",
       "    </tr>\n",
       "    <tr>\n",
       "      <th>Viterbi Mod 1</th>\n",
       "      <td>93.03</td>\n",
       "    </tr>\n",
       "    <tr>\n",
       "      <th>Viterbi Mod 2</th>\n",
       "      <td>94.88</td>\n",
       "    </tr>\n",
       "  </tbody>\n",
       "</table>\n",
       "</div>"
      ],
      "text/plain": [
       "                Accuracy\n",
       "Viterbi Vanilla    89.34\n",
       "Viterbi Mod 1      93.03\n",
       "Viterbi Mod 2      94.88"
      ]
     },
     "execution_count": 95,
     "metadata": {},
     "output_type": "execute_result"
    }
   ],
   "source": [
    "#Storing Viterbi Mod 2 Accuracy in dataframe\n",
    "eval_metrics.loc['Viterbi Mod 2'] = accuracy_mod2\n",
    "eval_metrics.head()"
   ]
  },
  {
   "cell_type": "code",
   "execution_count": 96,
   "metadata": {},
   "outputs": [],
   "source": [
    "#Build Predicted tags dataframe\n",
    "predicted_tags_df['Viterbi Mod 2 tag']=[pair[1] for pair in tagged_sequence_mod2]"
   ]
  },
  {
   "cell_type": "markdown",
   "metadata": {},
   "source": [
    "#### Difference between mod 2 and Vanilla Viterbi"
   ]
  },
  {
   "cell_type": "code",
   "execution_count": 97,
   "metadata": {
    "scrolled": true
   },
   "outputs": [
    {
     "data": {
      "text/html": [
       "<div>\n",
       "<style scoped>\n",
       "    .dataframe tbody tr th:only-of-type {\n",
       "        vertical-align: middle;\n",
       "    }\n",
       "\n",
       "    .dataframe tbody tr th {\n",
       "        vertical-align: top;\n",
       "    }\n",
       "\n",
       "    .dataframe thead th {\n",
       "        text-align: right;\n",
       "    }\n",
       "</style>\n",
       "<table border=\"1\" class=\"dataframe\">\n",
       "  <thead>\n",
       "    <tr style=\"text-align: right;\">\n",
       "      <th></th>\n",
       "      <th>Previous Word</th>\n",
       "      <th>Current Word</th>\n",
       "      <th>Original tag</th>\n",
       "      <th>Viterbi Vanilla tag</th>\n",
       "      <th>Viterbi Mod 1 tag</th>\n",
       "      <th>Viterbi Mod 2 tag</th>\n",
       "    </tr>\n",
       "  </thead>\n",
       "  <tbody>\n",
       "    <tr>\n",
       "      <th>24</th>\n",
       "      <td>markets</td>\n",
       "      <td>low-cost</td>\n",
       "      <td>ADJ</td>\n",
       "      <td>ADV</td>\n",
       "      <td>NOUN</td>\n",
       "      <td>ADJ</td>\n",
       "    </tr>\n",
       "    <tr>\n",
       "      <th>37</th>\n",
       "      <td>settled</td>\n",
       "      <td>pre-1917</td>\n",
       "      <td>ADJ</td>\n",
       "      <td>ADV</td>\n",
       "      <td>X</td>\n",
       "      <td>ADJ</td>\n",
       "    </tr>\n",
       "    <tr>\n",
       "      <th>145</th>\n",
       "      <td>was</td>\n",
       "      <td>soliciting</td>\n",
       "      <td>VERB</td>\n",
       "      <td>ADV</td>\n",
       "      <td>X</td>\n",
       "      <td>VERB</td>\n",
       "    </tr>\n",
       "    <tr>\n",
       "      <th>150</th>\n",
       "      <td>sell</td>\n",
       "      <td>TXO</td>\n",
       "      <td>NOUN</td>\n",
       "      <td>ADV</td>\n",
       "      <td>X</td>\n",
       "      <td>NOUN</td>\n",
       "    </tr>\n",
       "    <tr>\n",
       "      <th>176</th>\n",
       "      <td>of</td>\n",
       "      <td>manmade-fiber</td>\n",
       "      <td>ADJ</td>\n",
       "      <td>ADV</td>\n",
       "      <td>DET</td>\n",
       "      <td>ADJ</td>\n",
       "    </tr>\n",
       "    <tr>\n",
       "      <th>183</th>\n",
       "      <td>$</td>\n",
       "      <td>405</td>\n",
       "      <td>NUM</td>\n",
       "      <td>ADV</td>\n",
       "      <td>NOUN</td>\n",
       "      <td>NUM</td>\n",
       "    </tr>\n",
       "    <tr>\n",
       "      <th>223</th>\n",
       "      <td>but</td>\n",
       "      <td>brushed</td>\n",
       "      <td>VERB</td>\n",
       "      <td>ADV</td>\n",
       "      <td>NOUN</td>\n",
       "      <td>VERB</td>\n",
       "    </tr>\n",
       "    <tr>\n",
       "      <th>261</th>\n",
       "      <td>from</td>\n",
       "      <td>Tokio</td>\n",
       "      <td>NOUN</td>\n",
       "      <td>ADV</td>\n",
       "      <td>DET</td>\n",
       "      <td>NOUN</td>\n",
       "    </tr>\n",
       "    <tr>\n",
       "      <th>324</th>\n",
       "      <td>from</td>\n",
       "      <td>Tokio</td>\n",
       "      <td>NOUN</td>\n",
       "      <td>ADV</td>\n",
       "      <td>DET</td>\n",
       "      <td>NOUN</td>\n",
       "    </tr>\n",
       "    <tr>\n",
       "      <th>419</th>\n",
       "      <td>estimated</td>\n",
       "      <td>seven-million-ton</td>\n",
       "      <td>ADJ</td>\n",
       "      <td>ADV</td>\n",
       "      <td>X</td>\n",
       "      <td>ADJ</td>\n",
       "    </tr>\n",
       "  </tbody>\n",
       "</table>\n",
       "</div>"
      ],
      "text/plain": [
       "    Previous Word       Current Word Original tag Viterbi Vanilla tag  \\\n",
       "24        markets           low-cost          ADJ                 ADV   \n",
       "37        settled           pre-1917          ADJ                 ADV   \n",
       "145           was         soliciting         VERB                 ADV   \n",
       "150          sell                TXO         NOUN                 ADV   \n",
       "176            of      manmade-fiber          ADJ                 ADV   \n",
       "183             $                405          NUM                 ADV   \n",
       "223           but            brushed         VERB                 ADV   \n",
       "261          from              Tokio         NOUN                 ADV   \n",
       "324          from              Tokio         NOUN                 ADV   \n",
       "419     estimated  seven-million-ton          ADJ                 ADV   \n",
       "\n",
       "    Viterbi Mod 1 tag Viterbi Mod 2 tag  \n",
       "24               NOUN               ADJ  \n",
       "37                  X               ADJ  \n",
       "145                 X              VERB  \n",
       "150                 X              NOUN  \n",
       "176               DET               ADJ  \n",
       "183              NOUN               NUM  \n",
       "223              NOUN              VERB  \n",
       "261               DET              NOUN  \n",
       "324               DET              NOUN  \n",
       "419                 X               ADJ  "
      ]
     },
     "execution_count": 97,
     "metadata": {},
     "output_type": "execute_result"
    }
   ],
   "source": [
    "#Below tags were correctly predicted by mod 2, which vanilla and mod 1 failed predicting\n",
    "mod2_corrections_df = predicted_tags_df[(predicted_tags_df['Original tag']==predicted_tags_df['Viterbi Mod 2 tag']) & (predicted_tags_df['Original tag']!=predicted_tags_df['Viterbi Mod 1 tag']) & (predicted_tags_df['Original tag']!=predicted_tags_df['Viterbi Vanilla tag'])]\n",
    "mod2_corrections_df.head(10)"
   ]
  },
  {
   "cell_type": "markdown",
   "metadata": {},
   "source": [
    "### Compare the tagging accuracies of the modifications with the vanilla Viterbi algorithm"
   ]
  },
  {
   "cell_type": "code",
   "execution_count": 98,
   "metadata": {},
   "outputs": [
    {
     "data": {
      "text/html": [
       "<div>\n",
       "<style scoped>\n",
       "    .dataframe tbody tr th:only-of-type {\n",
       "        vertical-align: middle;\n",
       "    }\n",
       "\n",
       "    .dataframe tbody tr th {\n",
       "        vertical-align: top;\n",
       "    }\n",
       "\n",
       "    .dataframe thead th {\n",
       "        text-align: right;\n",
       "    }\n",
       "</style>\n",
       "<table border=\"1\" class=\"dataframe\">\n",
       "  <thead>\n",
       "    <tr style=\"text-align: right;\">\n",
       "      <th></th>\n",
       "      <th>Accuracy</th>\n",
       "    </tr>\n",
       "  </thead>\n",
       "  <tbody>\n",
       "    <tr>\n",
       "      <th>Viterbi Vanilla</th>\n",
       "      <td>89.34</td>\n",
       "    </tr>\n",
       "    <tr>\n",
       "      <th>Viterbi Mod 1</th>\n",
       "      <td>93.03</td>\n",
       "    </tr>\n",
       "    <tr>\n",
       "      <th>Viterbi Mod 2</th>\n",
       "      <td>94.88</td>\n",
       "    </tr>\n",
       "  </tbody>\n",
       "</table>\n",
       "</div>"
      ],
      "text/plain": [
       "                Accuracy\n",
       "Viterbi Vanilla    89.34\n",
       "Viterbi Mod 1      93.03\n",
       "Viterbi Mod 2      94.88"
      ]
     },
     "execution_count": 98,
     "metadata": {},
     "output_type": "execute_result"
    }
   ],
   "source": [
    "#Evaluation Metrics shows the accuracy for different algorithms\n",
    "eval_metrics.head()"
   ]
  },
  {
   "cell_type": "markdown",
   "metadata": {},
   "source": [
    "### List down cases which were incorrectly tagged by original POS tagger and got corrected by your modifications"
   ]
  },
  {
   "cell_type": "code",
   "execution_count": 99,
   "metadata": {},
   "outputs": [
    {
     "data": {
      "text/html": [
       "<div>\n",
       "<style scoped>\n",
       "    .dataframe tbody tr th:only-of-type {\n",
       "        vertical-align: middle;\n",
       "    }\n",
       "\n",
       "    .dataframe tbody tr th {\n",
       "        vertical-align: top;\n",
       "    }\n",
       "\n",
       "    .dataframe thead th {\n",
       "        text-align: right;\n",
       "    }\n",
       "</style>\n",
       "<table border=\"1\" class=\"dataframe\">\n",
       "  <thead>\n",
       "    <tr style=\"text-align: right;\">\n",
       "      <th></th>\n",
       "      <th>Previous Word</th>\n",
       "      <th>Current Word</th>\n",
       "      <th>Original tag</th>\n",
       "      <th>Viterbi Vanilla tag</th>\n",
       "      <th>Viterbi Mod 1 tag</th>\n",
       "      <th>Viterbi Mod 2 tag</th>\n",
       "    </tr>\n",
       "  </thead>\n",
       "  <tbody>\n",
       "    <tr>\n",
       "      <th>0</th>\n",
       "      <td>.</td>\n",
       "      <td>Shearson</td>\n",
       "      <td>NOUN</td>\n",
       "      <td>NOUN</td>\n",
       "      <td>NOUN</td>\n",
       "      <td>NOUN</td>\n",
       "    </tr>\n",
       "    <tr>\n",
       "      <th>1</th>\n",
       "      <td>Shearson</td>\n",
       "      <td>``</td>\n",
       "      <td>.</td>\n",
       "      <td>.</td>\n",
       "      <td>.</td>\n",
       "      <td>.</td>\n",
       "    </tr>\n",
       "    <tr>\n",
       "      <th>2</th>\n",
       "      <td>``</td>\n",
       "      <td>really</td>\n",
       "      <td>ADV</td>\n",
       "      <td>ADV</td>\n",
       "      <td>ADV</td>\n",
       "      <td>ADV</td>\n",
       "    </tr>\n",
       "    <tr>\n",
       "      <th>3</th>\n",
       "      <td>really</td>\n",
       "      <td>only</td>\n",
       "      <td>ADV</td>\n",
       "      <td>ADV</td>\n",
       "      <td>ADV</td>\n",
       "      <td>ADV</td>\n",
       "    </tr>\n",
       "    <tr>\n",
       "      <th>4</th>\n",
       "      <td>only</td>\n",
       "      <td>has</td>\n",
       "      <td>VERB</td>\n",
       "      <td>VERB</td>\n",
       "      <td>VERB</td>\n",
       "      <td>VERB</td>\n",
       "    </tr>\n",
       "  </tbody>\n",
       "</table>\n",
       "</div>"
      ],
      "text/plain": [
       "  Previous Word Current Word Original tag Viterbi Vanilla tag  \\\n",
       "0             .     Shearson         NOUN                NOUN   \n",
       "1      Shearson           ``            .                   .   \n",
       "2            ``       really          ADV                 ADV   \n",
       "3        really         only          ADV                 ADV   \n",
       "4          only          has         VERB                VERB   \n",
       "\n",
       "  Viterbi Mod 1 tag Viterbi Mod 2 tag  \n",
       "0              NOUN              NOUN  \n",
       "1                 .                 .  \n",
       "2               ADV               ADV  \n",
       "3               ADV               ADV  \n",
       "4              VERB              VERB  "
      ]
     },
     "execution_count": 99,
     "metadata": {},
     "output_type": "execute_result"
    }
   ],
   "source": [
    "#Below dataframe contains all the predicted tags\n",
    "predicted_tags_df.head()"
   ]
  },
  {
   "cell_type": "code",
   "execution_count": 100,
   "metadata": {},
   "outputs": [],
   "source": [
    "#Apply conditions to filter rows where Vanilla Viterbi Incorrectly tagged the words\n",
    "vanilla_viterbi_incorrect_prediction_df = predicted_tags_df[predicted_tags_df['Original tag']!=predicted_tags_df['Viterbi Vanilla tag']]"
   ]
  },
  {
   "cell_type": "code",
   "execution_count": 101,
   "metadata": {
    "scrolled": true
   },
   "outputs": [
    {
     "data": {
      "text/html": [
       "<div>\n",
       "<style scoped>\n",
       "    .dataframe tbody tr th:only-of-type {\n",
       "        vertical-align: middle;\n",
       "    }\n",
       "\n",
       "    .dataframe tbody tr th {\n",
       "        vertical-align: top;\n",
       "    }\n",
       "\n",
       "    .dataframe thead th {\n",
       "        text-align: right;\n",
       "    }\n",
       "</style>\n",
       "<table border=\"1\" class=\"dataframe\">\n",
       "  <thead>\n",
       "    <tr style=\"text-align: right;\">\n",
       "      <th></th>\n",
       "      <th>Previous Word</th>\n",
       "      <th>Current Word</th>\n",
       "      <th>Original tag</th>\n",
       "      <th>Viterbi Vanilla tag</th>\n",
       "      <th>Viterbi Mod 1 tag</th>\n",
       "      <th>Viterbi Mod 2 tag</th>\n",
       "    </tr>\n",
       "  </thead>\n",
       "  <tbody>\n",
       "    <tr>\n",
       "      <th>69</th>\n",
       "      <td>she</td>\n",
       "      <td>copied</td>\n",
       "      <td>VERB</td>\n",
       "      <td>ADV</td>\n",
       "      <td>VERB</td>\n",
       "      <td>VERB</td>\n",
       "    </tr>\n",
       "    <tr>\n",
       "      <th>112</th>\n",
       "      <td>enormously</td>\n",
       "      <td>frustrating</td>\n",
       "      <td>VERB</td>\n",
       "      <td>ADV</td>\n",
       "      <td>VERB</td>\n",
       "      <td>VERB</td>\n",
       "    </tr>\n",
       "    <tr>\n",
       "      <th>128</th>\n",
       "      <td>computer</td>\n",
       "      <td>science</td>\n",
       "      <td>NOUN</td>\n",
       "      <td>ADV</td>\n",
       "      <td>NOUN</td>\n",
       "      <td>NOUN</td>\n",
       "    </tr>\n",
       "    <tr>\n",
       "      <th>136</th>\n",
       "      <td>another</td>\n",
       "      <td>Walkman</td>\n",
       "      <td>NOUN</td>\n",
       "      <td>ADV</td>\n",
       "      <td>NOUN</td>\n",
       "      <td>NOUN</td>\n",
       "    </tr>\n",
       "    <tr>\n",
       "      <th>224</th>\n",
       "      <td>brushed</td>\n",
       "      <td>off</td>\n",
       "      <td>PRT</td>\n",
       "      <td>ADP</td>\n",
       "      <td>PRT</td>\n",
       "      <td>PRT</td>\n",
       "    </tr>\n",
       "    <tr>\n",
       "      <th>228</th>\n",
       "      <td>*</td>\n",
       "      <td>renewing</td>\n",
       "      <td>VERB</td>\n",
       "      <td>ADV</td>\n",
       "      <td>VERB</td>\n",
       "      <td>VERB</td>\n",
       "    </tr>\n",
       "    <tr>\n",
       "      <th>233</th>\n",
       "      <td>the</td>\n",
       "      <td>insurgents</td>\n",
       "      <td>NOUN</td>\n",
       "      <td>ADV</td>\n",
       "      <td>NOUN</td>\n",
       "      <td>NOUN</td>\n",
       "    </tr>\n",
       "    <tr>\n",
       "      <th>251</th>\n",
       "      <td>*-1</td>\n",
       "      <td>Funded</td>\n",
       "      <td>VERB</td>\n",
       "      <td>ADV</td>\n",
       "      <td>VERB</td>\n",
       "      <td>VERB</td>\n",
       "    </tr>\n",
       "    <tr>\n",
       "      <th>273</th>\n",
       "      <td>medical</td>\n",
       "      <td>protocols</td>\n",
       "      <td>NOUN</td>\n",
       "      <td>ADV</td>\n",
       "      <td>NOUN</td>\n",
       "      <td>NOUN</td>\n",
       "    </tr>\n",
       "    <tr>\n",
       "      <th>287</th>\n",
       "      <td>prospective</td>\n",
       "      <td>acquirers</td>\n",
       "      <td>NOUN</td>\n",
       "      <td>ADV</td>\n",
       "      <td>NOUN</td>\n",
       "      <td>NOUN</td>\n",
       "    </tr>\n",
       "    <tr>\n",
       "      <th>307</th>\n",
       "      <td>n't</td>\n",
       "      <td>noticed</td>\n",
       "      <td>VERB</td>\n",
       "      <td>ADV</td>\n",
       "      <td>VERB</td>\n",
       "      <td>VERB</td>\n",
       "    </tr>\n",
       "    <tr>\n",
       "      <th>314</th>\n",
       "      <td>*-1</td>\n",
       "      <td>Funded</td>\n",
       "      <td>VERB</td>\n",
       "      <td>ADV</td>\n",
       "      <td>VERB</td>\n",
       "      <td>VERB</td>\n",
       "    </tr>\n",
       "    <tr>\n",
       "      <th>336</th>\n",
       "      <td>medical</td>\n",
       "      <td>protocols</td>\n",
       "      <td>NOUN</td>\n",
       "      <td>ADV</td>\n",
       "      <td>NOUN</td>\n",
       "      <td>NOUN</td>\n",
       "    </tr>\n",
       "    <tr>\n",
       "      <th>368</th>\n",
       "      <td>and</td>\n",
       "      <td>longevity</td>\n",
       "      <td>NOUN</td>\n",
       "      <td>ADV</td>\n",
       "      <td>NOUN</td>\n",
       "      <td>NOUN</td>\n",
       "    </tr>\n",
       "    <tr>\n",
       "      <th>460</th>\n",
       "      <td>strategic</td>\n",
       "      <td>fit</td>\n",
       "      <td>NOUN</td>\n",
       "      <td>ADJ</td>\n",
       "      <td>NOUN</td>\n",
       "      <td>NOUN</td>\n",
       "    </tr>\n",
       "    <tr>\n",
       "      <th>466</th>\n",
       "      <td>avid</td>\n",
       "      <td>fan</td>\n",
       "      <td>NOUN</td>\n",
       "      <td>ADV</td>\n",
       "      <td>NOUN</td>\n",
       "      <td>NOUN</td>\n",
       "    </tr>\n",
       "  </tbody>\n",
       "</table>\n",
       "</div>"
      ],
      "text/plain": [
       "    Previous Word Current Word Original tag Viterbi Vanilla tag  \\\n",
       "69            she       copied         VERB                 ADV   \n",
       "112    enormously  frustrating         VERB                 ADV   \n",
       "128      computer      science         NOUN                 ADV   \n",
       "136       another      Walkman         NOUN                 ADV   \n",
       "224       brushed          off          PRT                 ADP   \n",
       "228             *     renewing         VERB                 ADV   \n",
       "233           the   insurgents         NOUN                 ADV   \n",
       "251           *-1       Funded         VERB                 ADV   \n",
       "273       medical    protocols         NOUN                 ADV   \n",
       "287   prospective    acquirers         NOUN                 ADV   \n",
       "307           n't      noticed         VERB                 ADV   \n",
       "314           *-1       Funded         VERB                 ADV   \n",
       "336       medical    protocols         NOUN                 ADV   \n",
       "368           and    longevity         NOUN                 ADV   \n",
       "460     strategic          fit         NOUN                 ADJ   \n",
       "466          avid          fan         NOUN                 ADV   \n",
       "\n",
       "    Viterbi Mod 1 tag Viterbi Mod 2 tag  \n",
       "69               VERB              VERB  \n",
       "112              VERB              VERB  \n",
       "128              NOUN              NOUN  \n",
       "136              NOUN              NOUN  \n",
       "224               PRT               PRT  \n",
       "228              VERB              VERB  \n",
       "233              NOUN              NOUN  \n",
       "251              VERB              VERB  \n",
       "273              NOUN              NOUN  \n",
       "287              NOUN              NOUN  \n",
       "307              VERB              VERB  \n",
       "314              VERB              VERB  \n",
       "336              NOUN              NOUN  \n",
       "368              NOUN              NOUN  \n",
       "460              NOUN              NOUN  \n",
       "466              NOUN              NOUN  "
      ]
     },
     "execution_count": 101,
     "metadata": {},
     "output_type": "execute_result"
    }
   ],
   "source": [
    "#Determine ones that are correctly predicted by both mod 1 and mod 2, but not by vanilla viterbi\n",
    "prediction_corrections_df = vanilla_viterbi_incorrect_prediction_df[(vanilla_viterbi_incorrect_prediction_df['Original tag']==vanilla_viterbi_incorrect_prediction_df['Viterbi Mod 1 tag']) & (vanilla_viterbi_incorrect_prediction_df['Original tag']==vanilla_viterbi_incorrect_prediction_df['Viterbi Mod 2 tag'])]\n",
    "prediction_corrections_df"
   ]
  },
  {
   "cell_type": "markdown",
   "metadata": {},
   "source": [
    "Above words were incorrectly tagged by Vanilla Viterbi, but were corrected by both mod 1 and mod 2"
   ]
  },
  {
   "cell_type": "markdown",
   "metadata": {},
   "source": [
    "### Unknown words corpus - Test"
   ]
  },
  {
   "cell_type": "code",
   "execution_count": 102,
   "metadata": {},
   "outputs": [],
   "source": [
    "unknown_words_corpus = \"\"\"Android is a mobile operating system developed by Google.\n",
    "Android has been the best-selling OS worldwide on smartphones since 2011 and on tablets since 2013.\n",
    "Google and Twitter made a deal in 2015 that gave Google access to Twitter's firehose.\n",
    "Twitter is an online news and social networking service on which users post and interact with messages known as tweets.\n",
    "Before entering politics, Donald Trump was a domineering businessman and a television personality.\n",
    "The 2018 FIFA World Cup is the 21st FIFA World Cup, an international football tournament contested once every four years.\n",
    "This is the first World Cup to be held in Eastern Europe and the 11th time that it has been held in Europe.\n",
    "Show me the cheapest round trips from Dallas to Atlanta\n",
    "I would like to see flights from Denver to Philadelphia.\n",
    "Show me the price of the flights leaving Atlanta at about 3 in the afternoon and arriving in San Francisco.\n",
    "NASA invited social media users to experience the launch of ICESAT-2 Satellite.\"\"\""
   ]
  },
  {
   "cell_type": "code",
   "execution_count": 103,
   "metadata": {},
   "outputs": [
    {
     "data": {
      "text/plain": [
       "181"
      ]
     },
     "execution_count": 103,
     "metadata": {},
     "output_type": "execute_result"
    }
   ],
   "source": [
    "unknown_words = word_tokenize(unknown_words_corpus)\n",
    "len(unknown_words)"
   ]
  },
  {
   "cell_type": "code",
   "execution_count": 104,
   "metadata": {},
   "outputs": [],
   "source": [
    "#Create a function for easy access to various algorithms that we created in this notebook\n",
    "\n",
    "#Input Parameters:\n",
    "#Pass first param as list of words\n",
    "#Do not pass second param to run vanilla viterbi\n",
    "#Pass second param as 1 to run mod 1 (Transition probabilties driver)\n",
    "#Pass second param as 2 to run mod 2 (Trigam backed by Regex)\n",
    "#Pass second param as 3 to run all 3 algorithms in one go\n",
    "\n",
    "#Returns:\n",
    "#A dataframe of Words along with tags\n",
    "\n",
    "def run_viterbi(words , mod=0):\n",
    "    predicted_tag_sequences = []\n",
    "    pred_df = pd.DataFrame()\n",
    "    \n",
    "    if mod==1:\n",
    "        predicted_tag_sequences = viterbi_mod1(words)\n",
    "        pred_df['word']=[pair[0] for pair in predicted_tag_sequences]\n",
    "        pred_df['mod 1']=[pair[1] for pair in predicted_tag_sequences]\n",
    "    elif mod==2:\n",
    "        predicted_tag_sequences = viterbi_mod2(words)\n",
    "        pred_df['word']=[pair[0] for pair in predicted_tag_sequences]\n",
    "        pred_df['mod 2']=[pair[1] for pair in predicted_tag_sequences]\n",
    "    elif mod==3:#Run all 3 algos at once\n",
    "        predicted_tag_sequences = viterbi_vanilla(words)\n",
    "        pred_df['word']=[pair[0] for pair in predicted_tag_sequences]\n",
    "        pred_df['vanilla']=[pair[1] for pair in predicted_tag_sequences]\n",
    "        predicted_tag_sequences = viterbi_mod1(words)\n",
    "        pred_df['mod 1']=[pair[1] for pair in predicted_tag_sequences]\n",
    "        predicted_tag_sequences = viterbi_mod2(words)\n",
    "        pred_df['mod 2']=[pair[1] for pair in predicted_tag_sequences]\n",
    "    else:#By default run Vanilla Viterbi\n",
    "        predicted_tag_sequences = viterbi_vanilla(words)\n",
    "        pred_df['word']=[pair[0] for pair in predicted_tag_sequences]\n",
    "        pred_df['vanilla']=[pair[1] for pair in predicted_tag_sequences]\n",
    "    \n",
    "    \n",
    "    return pred_df"
   ]
  },
  {
   "cell_type": "code",
   "execution_count": 105,
   "metadata": {
    "scrolled": true
   },
   "outputs": [
    {
     "name": "stdout",
     "output_type": "stream",
     "text": [
      "Execution time in seconds: 36.795313596725464\n",
      "Execution time in seconds: 36.813554525375366\n",
      "Execution time in seconds: 36.877341508865356\n"
     ]
    },
    {
     "data": {
      "text/html": [
       "<div>\n",
       "<style scoped>\n",
       "    .dataframe tbody tr th:only-of-type {\n",
       "        vertical-align: middle;\n",
       "    }\n",
       "\n",
       "    .dataframe tbody tr th {\n",
       "        vertical-align: top;\n",
       "    }\n",
       "\n",
       "    .dataframe thead th {\n",
       "        text-align: right;\n",
       "    }\n",
       "</style>\n",
       "<table border=\"1\" class=\"dataframe\">\n",
       "  <thead>\n",
       "    <tr style=\"text-align: right;\">\n",
       "      <th></th>\n",
       "      <th>word</th>\n",
       "      <th>vanilla</th>\n",
       "      <th>mod 1</th>\n",
       "      <th>mod 2</th>\n",
       "    </tr>\n",
       "  </thead>\n",
       "  <tbody>\n",
       "    <tr>\n",
       "      <th>0</th>\n",
       "      <td>Android</td>\n",
       "      <td>ADV</td>\n",
       "      <td>NOUN</td>\n",
       "      <td>NOUN</td>\n",
       "    </tr>\n",
       "    <tr>\n",
       "      <th>1</th>\n",
       "      <td>is</td>\n",
       "      <td>VERB</td>\n",
       "      <td>VERB</td>\n",
       "      <td>VERB</td>\n",
       "    </tr>\n",
       "    <tr>\n",
       "      <th>2</th>\n",
       "      <td>a</td>\n",
       "      <td>DET</td>\n",
       "      <td>DET</td>\n",
       "      <td>DET</td>\n",
       "    </tr>\n",
       "    <tr>\n",
       "      <th>3</th>\n",
       "      <td>mobile</td>\n",
       "      <td>ADJ</td>\n",
       "      <td>ADJ</td>\n",
       "      <td>ADJ</td>\n",
       "    </tr>\n",
       "    <tr>\n",
       "      <th>4</th>\n",
       "      <td>operating</td>\n",
       "      <td>NOUN</td>\n",
       "      <td>NOUN</td>\n",
       "      <td>NOUN</td>\n",
       "    </tr>\n",
       "  </tbody>\n",
       "</table>\n",
       "</div>"
      ],
      "text/plain": [
       "        word vanilla mod 1 mod 2\n",
       "0    Android     ADV  NOUN  NOUN\n",
       "1         is    VERB  VERB  VERB\n",
       "2          a     DET   DET   DET\n",
       "3     mobile     ADJ   ADJ   ADJ\n",
       "4  operating    NOUN  NOUN  NOUN"
      ]
     },
     "execution_count": 105,
     "metadata": {},
     "output_type": "execute_result"
    }
   ],
   "source": [
    "result_df = run_viterbi(unknown_words, mod=3)\n",
    "result_df.head()"
   ]
  },
  {
   "cell_type": "code",
   "execution_count": 106,
   "metadata": {
    "scrolled": true
   },
   "outputs": [
    {
     "data": {
      "text/html": [
       "<div>\n",
       "<style scoped>\n",
       "    .dataframe tbody tr th:only-of-type {\n",
       "        vertical-align: middle;\n",
       "    }\n",
       "\n",
       "    .dataframe tbody tr th {\n",
       "        vertical-align: top;\n",
       "    }\n",
       "\n",
       "    .dataframe thead th {\n",
       "        text-align: right;\n",
       "    }\n",
       "</style>\n",
       "<table border=\"1\" class=\"dataframe\">\n",
       "  <thead>\n",
       "    <tr style=\"text-align: right;\">\n",
       "      <th></th>\n",
       "      <th>word</th>\n",
       "      <th>vanilla</th>\n",
       "      <th>mod 1</th>\n",
       "      <th>mod 2</th>\n",
       "    </tr>\n",
       "  </thead>\n",
       "  <tbody>\n",
       "    <tr>\n",
       "      <th>0</th>\n",
       "      <td>Android</td>\n",
       "      <td>ADV</td>\n",
       "      <td>NOUN</td>\n",
       "      <td>NOUN</td>\n",
       "    </tr>\n",
       "    <tr>\n",
       "      <th>8</th>\n",
       "      <td>Google</td>\n",
       "      <td>ADV</td>\n",
       "      <td>DET</td>\n",
       "      <td>NOUN</td>\n",
       "    </tr>\n",
       "    <tr>\n",
       "      <th>10</th>\n",
       "      <td>Android</td>\n",
       "      <td>ADV</td>\n",
       "      <td>NOUN</td>\n",
       "      <td>NOUN</td>\n",
       "    </tr>\n",
       "    <tr>\n",
       "      <th>15</th>\n",
       "      <td>OS</td>\n",
       "      <td>ADV</td>\n",
       "      <td>NOUN</td>\n",
       "      <td>NOUN</td>\n",
       "    </tr>\n",
       "    <tr>\n",
       "      <th>16</th>\n",
       "      <td>worldwide</td>\n",
       "      <td>ADV</td>\n",
       "      <td>NOUN</td>\n",
       "      <td>NOUN</td>\n",
       "    </tr>\n",
       "    <tr>\n",
       "      <th>18</th>\n",
       "      <td>smartphones</td>\n",
       "      <td>ADV</td>\n",
       "      <td>DET</td>\n",
       "      <td>VERB</td>\n",
       "    </tr>\n",
       "    <tr>\n",
       "      <th>20</th>\n",
       "      <td>2011</td>\n",
       "      <td>ADV</td>\n",
       "      <td>DET</td>\n",
       "      <td>NUM</td>\n",
       "    </tr>\n",
       "    <tr>\n",
       "      <th>25</th>\n",
       "      <td>2013</td>\n",
       "      <td>ADV</td>\n",
       "      <td>DET</td>\n",
       "      <td>NUM</td>\n",
       "    </tr>\n",
       "    <tr>\n",
       "      <th>27</th>\n",
       "      <td>Google</td>\n",
       "      <td>ADV</td>\n",
       "      <td>NOUN</td>\n",
       "      <td>NOUN</td>\n",
       "    </tr>\n",
       "    <tr>\n",
       "      <th>29</th>\n",
       "      <td>Twitter</td>\n",
       "      <td>ADV</td>\n",
       "      <td>NOUN</td>\n",
       "      <td>NOUN</td>\n",
       "    </tr>\n",
       "    <tr>\n",
       "      <th>34</th>\n",
       "      <td>2015</td>\n",
       "      <td>ADV</td>\n",
       "      <td>DET</td>\n",
       "      <td>NUM</td>\n",
       "    </tr>\n",
       "    <tr>\n",
       "      <th>37</th>\n",
       "      <td>Google</td>\n",
       "      <td>ADV</td>\n",
       "      <td>X</td>\n",
       "      <td>NOUN</td>\n",
       "    </tr>\n",
       "    <tr>\n",
       "      <th>40</th>\n",
       "      <td>Twitter</td>\n",
       "      <td>ADV</td>\n",
       "      <td>VERB</td>\n",
       "      <td>NOUN</td>\n",
       "    </tr>\n",
       "    <tr>\n",
       "      <th>42</th>\n",
       "      <td>firehose</td>\n",
       "      <td>ADV</td>\n",
       "      <td>VERB</td>\n",
       "      <td>NOUN</td>\n",
       "    </tr>\n",
       "    <tr>\n",
       "      <th>44</th>\n",
       "      <td>Twitter</td>\n",
       "      <td>ADV</td>\n",
       "      <td>NOUN</td>\n",
       "      <td>NOUN</td>\n",
       "    </tr>\n",
       "    <tr>\n",
       "      <th>47</th>\n",
       "      <td>online</td>\n",
       "      <td>ADV</td>\n",
       "      <td>NOUN</td>\n",
       "      <td>NOUN</td>\n",
       "    </tr>\n",
       "    <tr>\n",
       "      <th>58</th>\n",
       "      <td>interact</td>\n",
       "      <td>ADV</td>\n",
       "      <td>NOUN</td>\n",
       "      <td>NOUN</td>\n",
       "    </tr>\n",
       "    <tr>\n",
       "      <th>60</th>\n",
       "      <td>messages</td>\n",
       "      <td>ADV</td>\n",
       "      <td>DET</td>\n",
       "      <td>VERB</td>\n",
       "    </tr>\n",
       "    <tr>\n",
       "      <th>63</th>\n",
       "      <td>tweets</td>\n",
       "      <td>ADV</td>\n",
       "      <td>DET</td>\n",
       "      <td>NOUN</td>\n",
       "    </tr>\n",
       "    <tr>\n",
       "      <th>73</th>\n",
       "      <td>domineering</td>\n",
       "      <td>ADV</td>\n",
       "      <td>NOUN</td>\n",
       "      <td>VERB</td>\n",
       "    </tr>\n",
       "    <tr>\n",
       "      <th>78</th>\n",
       "      <td>personality</td>\n",
       "      <td>ADV</td>\n",
       "      <td>NOUN</td>\n",
       "      <td>NOUN</td>\n",
       "    </tr>\n",
       "    <tr>\n",
       "      <th>81</th>\n",
       "      <td>2018</td>\n",
       "      <td>ADV</td>\n",
       "      <td>NOUN</td>\n",
       "      <td>NUM</td>\n",
       "    </tr>\n",
       "    <tr>\n",
       "      <th>82</th>\n",
       "      <td>FIFA</td>\n",
       "      <td>ADV</td>\n",
       "      <td>NOUN</td>\n",
       "      <td>NOUN</td>\n",
       "    </tr>\n",
       "    <tr>\n",
       "      <th>84</th>\n",
       "      <td>Cup</td>\n",
       "      <td>ADV</td>\n",
       "      <td>NOUN</td>\n",
       "      <td>NOUN</td>\n",
       "    </tr>\n",
       "    <tr>\n",
       "      <th>87</th>\n",
       "      <td>21st</td>\n",
       "      <td>ADV</td>\n",
       "      <td>NOUN</td>\n",
       "      <td>NOUN</td>\n",
       "    </tr>\n",
       "    <tr>\n",
       "      <th>88</th>\n",
       "      <td>FIFA</td>\n",
       "      <td>ADV</td>\n",
       "      <td>NOUN</td>\n",
       "      <td>NOUN</td>\n",
       "    </tr>\n",
       "    <tr>\n",
       "      <th>90</th>\n",
       "      <td>Cup</td>\n",
       "      <td>ADV</td>\n",
       "      <td>NOUN</td>\n",
       "      <td>NOUN</td>\n",
       "    </tr>\n",
       "    <tr>\n",
       "      <th>95</th>\n",
       "      <td>tournament</td>\n",
       "      <td>ADV</td>\n",
       "      <td>NOUN</td>\n",
       "      <td>NOUN</td>\n",
       "    </tr>\n",
       "    <tr>\n",
       "      <th>96</th>\n",
       "      <td>contested</td>\n",
       "      <td>ADV</td>\n",
       "      <td>NOUN</td>\n",
       "      <td>VERB</td>\n",
       "    </tr>\n",
       "    <tr>\n",
       "      <th>107</th>\n",
       "      <td>Cup</td>\n",
       "      <td>ADV</td>\n",
       "      <td>NOUN</td>\n",
       "      <td>NOUN</td>\n",
       "    </tr>\n",
       "    <tr>\n",
       "      <th>131</th>\n",
       "      <td>trips</td>\n",
       "      <td>ADV</td>\n",
       "      <td>NOUN</td>\n",
       "      <td>NOUN</td>\n",
       "    </tr>\n",
       "    <tr>\n",
       "      <th>163</th>\n",
       "      <td>arriving</td>\n",
       "      <td>ADV</td>\n",
       "      <td>NOUN</td>\n",
       "      <td>VERB</td>\n",
       "    </tr>\n",
       "    <tr>\n",
       "      <th>168</th>\n",
       "      <td>NASA</td>\n",
       "      <td>ADV</td>\n",
       "      <td>NOUN</td>\n",
       "      <td>NOUN</td>\n",
       "    </tr>\n",
       "    <tr>\n",
       "      <th>169</th>\n",
       "      <td>invited</td>\n",
       "      <td>ADV</td>\n",
       "      <td>NOUN</td>\n",
       "      <td>VERB</td>\n",
       "    </tr>\n",
       "    <tr>\n",
       "      <th>178</th>\n",
       "      <td>ICESAT-2</td>\n",
       "      <td>ADV</td>\n",
       "      <td>DET</td>\n",
       "      <td>ADJ</td>\n",
       "    </tr>\n",
       "    <tr>\n",
       "      <th>179</th>\n",
       "      <td>Satellite</td>\n",
       "      <td>ADV</td>\n",
       "      <td>NOUN</td>\n",
       "      <td>NOUN</td>\n",
       "    </tr>\n",
       "  </tbody>\n",
       "</table>\n",
       "</div>"
      ],
      "text/plain": [
       "            word vanilla mod 1 mod 2\n",
       "0        Android     ADV  NOUN  NOUN\n",
       "8         Google     ADV   DET  NOUN\n",
       "10       Android     ADV  NOUN  NOUN\n",
       "15            OS     ADV  NOUN  NOUN\n",
       "16     worldwide     ADV  NOUN  NOUN\n",
       "18   smartphones     ADV   DET  VERB\n",
       "20          2011     ADV   DET   NUM\n",
       "25          2013     ADV   DET   NUM\n",
       "27        Google     ADV  NOUN  NOUN\n",
       "29       Twitter     ADV  NOUN  NOUN\n",
       "34          2015     ADV   DET   NUM\n",
       "37        Google     ADV     X  NOUN\n",
       "40       Twitter     ADV  VERB  NOUN\n",
       "42      firehose     ADV  VERB  NOUN\n",
       "44       Twitter     ADV  NOUN  NOUN\n",
       "47        online     ADV  NOUN  NOUN\n",
       "58      interact     ADV  NOUN  NOUN\n",
       "60      messages     ADV   DET  VERB\n",
       "63        tweets     ADV   DET  NOUN\n",
       "73   domineering     ADV  NOUN  VERB\n",
       "78   personality     ADV  NOUN  NOUN\n",
       "81          2018     ADV  NOUN   NUM\n",
       "82          FIFA     ADV  NOUN  NOUN\n",
       "84           Cup     ADV  NOUN  NOUN\n",
       "87          21st     ADV  NOUN  NOUN\n",
       "88          FIFA     ADV  NOUN  NOUN\n",
       "90           Cup     ADV  NOUN  NOUN\n",
       "95    tournament     ADV  NOUN  NOUN\n",
       "96     contested     ADV  NOUN  VERB\n",
       "107          Cup     ADV  NOUN  NOUN\n",
       "131        trips     ADV  NOUN  NOUN\n",
       "163     arriving     ADV  NOUN  VERB\n",
       "168         NASA     ADV  NOUN  NOUN\n",
       "169      invited     ADV  NOUN  VERB\n",
       "178     ICESAT-2     ADV   DET   ADJ\n",
       "179    Satellite     ADV  NOUN  NOUN"
      ]
     },
     "execution_count": 106,
     "metadata": {},
     "output_type": "execute_result"
    }
   ],
   "source": [
    "#Check the predictions differences between methods\n",
    "result_df[(result_df['vanilla']!=result_df['mod 1']) | (result_df['vanilla']!=result_df['mod 2'])]"
   ]
  },
  {
   "cell_type": "markdown",
   "metadata": {},
   "source": [
    "viterbi_mod2 seems like best algo for POS tagging, based on above results and accuracy data"
   ]
  }
 ],
 "metadata": {
  "kernelspec": {
   "display_name": "Python 3",
   "language": "python",
   "name": "python3"
  },
  "language_info": {
   "codemirror_mode": {
    "name": "ipython",
    "version": 3
   },
   "file_extension": ".py",
   "mimetype": "text/x-python",
   "name": "python",
   "nbconvert_exporter": "python",
   "pygments_lexer": "ipython3",
   "version": "3.7.7"
  }
 },
 "nbformat": 4,
 "nbformat_minor": 2
}
