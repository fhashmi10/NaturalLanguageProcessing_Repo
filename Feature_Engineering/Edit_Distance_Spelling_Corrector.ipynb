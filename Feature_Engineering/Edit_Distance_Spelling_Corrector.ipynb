{
 "cells": [
  {
   "cell_type": "code",
   "execution_count": 1,
   "metadata": {},
   "outputs": [],
   "source": [
    "import re\n",
    "from collections import Counter"
   ]
  },
  {
   "cell_type": "code",
   "execution_count": 2,
   "metadata": {},
   "outputs": [],
   "source": [
    "# function to tokenise words\n",
    "def words(document):\n",
    "    \"Convert text to lower case and tokenise the document\"\n",
    "    return re.findall(r'\\w+', document.lower())"
   ]
  },
  {
   "cell_type": "code",
   "execution_count": 3,
   "metadata": {},
   "outputs": [],
   "source": [
    "# create a frequency table of all the words of the document\n",
    "all_words = Counter(words(open('big.txt').read()))"
   ]
  },
  {
   "cell_type": "code",
   "execution_count": 4,
   "metadata": {},
   "outputs": [
    {
     "data": {
      "text/plain": [
       "135"
      ]
     },
     "execution_count": 4,
     "metadata": {},
     "output_type": "execute_result"
    }
   ],
   "source": [
    "# check frequency of a random word, say, 'chair'\n",
    "all_words['chair']"
   ]
  },
  {
   "cell_type": "code",
   "execution_count": 5,
   "metadata": {},
   "outputs": [
    {
     "data": {
      "text/plain": [
       "[('the', 79809),\n",
       " ('of', 40024),\n",
       " ('and', 38312),\n",
       " ('to', 28765),\n",
       " ('in', 22023),\n",
       " ('a', 21124),\n",
       " ('that', 12512),\n",
       " ('he', 12401),\n",
       " ('was', 11410),\n",
       " ('it', 10681)]"
      ]
     },
     "execution_count": 5,
     "metadata": {},
     "output_type": "execute_result"
    }
   ],
   "source": [
    "# look at top 10 frequent words\n",
    "all_words.most_common(10)"
   ]
  },
  {
   "cell_type": "code",
   "execution_count": 6,
   "metadata": {},
   "outputs": [],
   "source": [
    "def edits_one(word):\n",
    "    \"Create all edits that are one edit away from `word`.\"\n",
    "    alphabets    = 'abcdefghijklmnopqrstuvwxyz'\n",
    "    splits     = [(word[:i], word[i:])                   for i in range(len(word) + 1)]\n",
    "    deletes    = [left + right[1:]                       for left, right in splits if right]\n",
    "    inserts    = [left + c + right                       for left, right in splits for c in alphabets]\n",
    "    replaces   = [left + c + right[1:]                   for left, right in splits if right for c in alphabets]\n",
    "    transposes = [left + right[1] + right[0] + right[2:] for left, right in splits if len(right)>1]\n",
    "    return set(deletes + inserts + replaces + transposes)"
   ]
  },
  {
   "cell_type": "code",
   "execution_count": 7,
   "metadata": {},
   "outputs": [],
   "source": [
    "def edits_two(word):\n",
    "    \"Create all edits that are two edits away from `word`.\"\n",
    "    return (e2 for e1 in edits_one(word) for e2 in edits_one(e1))"
   ]
  },
  {
   "cell_type": "code",
   "execution_count": 8,
   "metadata": {},
   "outputs": [],
   "source": [
    "def known(words):\n",
    "    \"The subset of `words` that appear in the `all_words`.\"\n",
    "    return set(word for word in words if word in all_words)"
   ]
  },
  {
   "cell_type": "code",
   "execution_count": 9,
   "metadata": {},
   "outputs": [],
   "source": [
    "def possible_corrections(word):\n",
    "    \"Generate possible spelling corrections for word.\"\n",
    "    return (known([word]) or known(edits_one(word)) or known(edits_two(word)) or [word])"
   ]
  },
  {
   "cell_type": "code",
   "execution_count": 10,
   "metadata": {},
   "outputs": [],
   "source": [
    "def prob(word, N=sum(all_words.values())): \n",
    "    \"Probability of `word`: Number of appearances of 'word' / total number of tokens\"\n",
    "    return all_words[word] / N"
   ]
  },
  {
   "cell_type": "code",
   "execution_count": 11,
   "metadata": {},
   "outputs": [
    {
     "name": "stdout",
     "output_type": "stream",
     "text": [
      "336\n",
      "{'uonney', 'monjey', 'oonney', 'mjonney', 'mondey', 'monneay', 'monnef', 'monndey', 'monnley', 'manney', 'mfnney', 'mvonney', 'mnnney', 'monnec', 'mmonney', 'mlonney', 'monxney', 'eonney', 'monnly', 'mzonney', 'monnny', 'monzey', 'monnxey', 'mqnney', 'moynney', 'momnney', 'monneky', 'monkey', 'mohney', 'monnzey', 'monfney', 'gmonney', 'monneyi', 'monneby', 'monnpey', 'monneyt', 'monnety', 'mxnney', 'moneey', 'wmonney', 'ponney', 'monnely', 'monnegy', 'nmonney', 'monnek', 'konney', 'msnney', 'monnew', 'monnewy', 'monny', 'monngey', 'jonney', 'wonney', 'monnjey', 'monnuey', 'monnehy', 'moniney', 'mosnney', 'monnhey', 'moqnney', 'monngy', 'monneh', 'moxney', 'monneys', 'monnee', 'mokney', 'mfonney', 'monvney', 'bonney', 'conney', 'maonney', 'mownney', 'monneey', 'monnes', 'monneym', 'xonney', 'moneney', 'mxonney', 'monnet', 'onney', 'xmonney', 'monaney', 'omonney', 'mhonney', 'monnev', 'monnfy', 'mongey', 'monwey', 'mondney', 'monnty', 'zmonney', 'monxey', 'moaney', 'dmonney', 'monnsey', 'kmonney', 'monneyp', 'monneyz', 'mopnney', 'money', 'menney', 'mobney', 'monnesy', 'mlnney', 'monnvey', 'momney', 'gonney', 'monniey', 'montney', 'monlney', 'monrey', 'mojney', 'movnney', 'munney', 'monneoy', 'monneqy', 'modney', 'monaey', 'mjnney', 'mmnney', 'mohnney', 'imonney', 'monnez', 'qmonney', 'monnqy', 'mwonney', 'fonney', 'monneyo', 'mobnney', 'muonney', 'mosney', 'mpnney', 'mornney', 'mocnney', 'monneye', 'honney', 'monnepy', 'monsey', 'mynney', 'monnney', 'monneyk', 'yonney', 'amonney', 'monnemy', 'aonney', 'monnem', 'monnedy', 'monneyw', 'monneyr', 'mconney', 'monneyq', 'monyney', 'mcnney', 'lonney', 'monhney', 'mounney', 'monnfey', 'monhey', 'moncey', 'umonney', 'jmonney', 'monneyd', 'moknney', 'monneb', 'monnmey', 'monyey', 'monner', 'monneq', 'monuney', 'monnei', 'mrnney', 'ymonney', 'mtonney', 'monnky', 'monmey', 'moinney', 'monnpy', 'moonney', 'monzney', 'monneyl', 'mznney', 'monnay', 'moyney', 'monnefy', 'monnsy', 'moeney', 'monnqey', 'monnmy', 'monncey', 'monbey', 'lmonney', 'monncy', 'monneg', 'mozney', 'monnep', 'monnea', 'monned', 'monnzy', 'mdnney', 'monnen', 'monnexy', 'monvey', 'monne', 'mponney', 'monnrey', 'moanney', 'monwney', 'monnby', 'molney', 'monneyj', 'mknney', 'mofnney', 'moncney', 'mkonney', 'moneny', 'monbney', 'monnel', 'monnecy', 'tonney', 'monuey', 'monley', 'monnkey', 'moenney', 'moznney', 'monnvy', 'monpney', 'monnry', 'mwnney', 'monnwy', 'morney', 'monneyn', 'monnye', 'mognney', 'qonney', 'monqey', 'monjney', 'monney', 'monneyv', 'monneu', 'monneyb', 'moxnney', 'monnoy', 'monntey', 'mouney', 'fmonney', 'vonney', 'monfey', 'mnoney', 'hmonney', 'monneny', 'motnney', 'moniey', 'monneyx', 'monpey', 'monnoey', 'monneo', 'monneyy', 'monniy', 'mdonney', 'monnevy', 'motney', 'tmonney', 'monsney', 'mionney', 'monnej', 'mhnney', 'mojnney', 'myonney', 'mvnney', 'movney', 'monndy', 'monneyg', 'monoey', 'monnjy', 'monnyy', 'pmonney', 'monnbey', 'monneiy', 'monneuy', 'zonney', 'ronney', 'donney', 'monneyc', 'moiney', 'mopney', 'mbonney', 'monrney', 'nonney', 'molnney', 'mqonney', 'vmonney', 'msonney', 'minney', 'monqney', 'monnery', 'monnxy', 'monnejy', 'smonney', 'mbnney', 'monnuy', 'mnonney', 'montey', 'ionney', 'monneyh', 'monneya', 'monneyf', 'cmonney', 'mongney', 'meonney', 'monnezy', 'mooney', 'mogney', 'monnex', 'mgonney', 'monnaey', 'mofney', 'bmonney', 'mronney', 'mowney', 'rmonney', 'omnney', 'emonney', 'sonney', 'monnhy', 'monneyu', 'mtnney', 'monmney', 'mgnney', 'mnney', 'mononey', 'moqney', 'monkney', 'mocney', 'monnwey', 'monnyey', 'modnney'}\n"
     ]
    }
   ],
   "source": [
    "print(len(set(edits_one(\"monney\"))))\n",
    "print(edits_one(\"monney\"))"
   ]
  },
  {
   "cell_type": "code",
   "execution_count": 12,
   "metadata": {},
   "outputs": [
    {
     "name": "stdout",
     "output_type": "stream",
     "text": [
      "{'money', 'monkey'}\n"
     ]
    }
   ],
   "source": [
    "print(known(edits_one(\"monney\")))"
   ]
  },
  {
   "cell_type": "code",
   "execution_count": 23,
   "metadata": {},
   "outputs": [
    {
     "data": {
      "text/plain": [
       "{'emphasize'}"
      ]
     },
     "execution_count": 23,
     "metadata": {},
     "output_type": "execute_result"
    }
   ],
   "source": [
    "possible_corrections('emfasize')"
   ]
  },
  {
   "cell_type": "code",
   "execution_count": 13,
   "metadata": {},
   "outputs": [
    {
     "name": "stdout",
     "output_type": "stream",
     "text": [
      "51013\n",
      "{'money', 'monkey'}\n"
     ]
    }
   ],
   "source": [
    "# Let's look at words that are two edits away\n",
    "print(len(set(edits_two(\"monney\"))))\n",
    "print(known(edits_one(\"monney\")))"
   ]
  },
  {
   "cell_type": "code",
   "execution_count": 14,
   "metadata": {},
   "outputs": [
    {
     "name": "stdout",
     "output_type": "stream",
     "text": [
      "{'money', 'monkey'}\n"
     ]
    }
   ],
   "source": [
    "# Let's look at possible corrections of a word\n",
    "print(possible_corrections(\"monney\"))"
   ]
  },
  {
   "cell_type": "code",
   "execution_count": 15,
   "metadata": {},
   "outputs": [
    {
     "name": "stdout",
     "output_type": "stream",
     "text": [
      "0.0002922233626303688\n",
      "5.378344097491451e-06\n"
     ]
    }
   ],
   "source": [
    "# Let's look at probability of a word\n",
    "print(prob(\"money\"))\n",
    "print(prob(\"monkey\"))"
   ]
  },
  {
   "cell_type": "code",
   "execution_count": 16,
   "metadata": {},
   "outputs": [],
   "source": [
    "def spell_check(word):\n",
    "    \"Print the most probable spelling correction for `word` out of all the `possible_corrections`\"\n",
    "    correct_word = max(possible_corrections(word), key=prob)\n",
    "    if correct_word != word:\n",
    "        return \"Did you mean \" + correct_word + \"?\"\n",
    "    else:\n",
    "        return \"Correct spelling.\""
   ]
  },
  {
   "cell_type": "code",
   "execution_count": 17,
   "metadata": {},
   "outputs": [
    {
     "name": "stdout",
     "output_type": "stream",
     "text": [
      "Did you mean money?\n"
     ]
    }
   ],
   "source": [
    "# test spell check\n",
    "print(spell_check(\"monney\"))"
   ]
  }
 ],
 "metadata": {
  "kernelspec": {
   "display_name": "Python 3",
   "language": "python",
   "name": "python3"
  },
  "language_info": {
   "codemirror_mode": {
    "name": "ipython",
    "version": 3
   },
   "file_extension": ".py",
   "mimetype": "text/x-python",
   "name": "python",
   "nbconvert_exporter": "python",
   "pygments_lexer": "ipython3",
   "version": "3.8.3"
  }
 },
 "nbformat": 4,
 "nbformat_minor": 2
}
